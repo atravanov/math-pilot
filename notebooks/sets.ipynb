{
 "cells": [
  {
   "cell_type": "markdown",
   "id": "68354297",
   "metadata": {},
   "source": [
    "# Mengen Notation\n",
    "## Mengen von natürlichen Zahlen\n",
    "Wir definieren die *Menge der natürlichen Zahlen* wie folgt: \n",
    "$$\\mathbb{N} = \\{ 1, 2, 3, \\dots \\}$$\n",
    "\n",
    "Folgendes sind Beispiele von Mengen, welche natürliche Zahlen beinhalten. \n",
    "* X ist die Menge aller Primzahlen kleiner als 20.\n",
    "* Y ist die Menge aller ungeraden natürlichen Zahlen kleiner als 20.\n",
    "\n",
    "- $X =  \\{2,3,5,7,11,13,17,19\\}$\n",
    "- $Y =  \\{1,3,5,7,9,11,13,15,17,19\\}$\n",
    "\n",
    "In Python kannst du diese Mengen in der korrekten mathematischen Schreibweise initialisieren und mit der print Funktion ausgeben:"
   ]
  },
  {
   "cell_type": "code",
   "execution_count": 77,
   "id": "061f7f4a",
   "metadata": {},
   "outputs": [
    {
     "name": "stdout",
     "output_type": "stream",
     "text": [
      "X =  {2, 3, 5, 7, 11, 13, 17, 19}\n",
      "Y =  {1, 3, 5, 7, 9, 11, 13, 15, 17, 19}\n"
     ]
    }
   ],
   "source": [
    "X = {2,3,5,7,11,13,17,19}\n",
    "Y = {1,3,5,7,9,11,13,15,17,19}\n",
    "\n",
    "print('X = ', X)\n",
    "print('Y = ', Y)\n"
   ]
  },
  {
   "cell_type": "markdown",
   "id": "1b8876c3",
   "metadata": {},
   "source": [
    "Wir können die Mengen X und Y auch beschreibend definieren: \n",
    "\n",
    "- $X =  \\{ n \\in \\mathbb{N} \\mid n \\text{ ist Primzahl} \\land n < 20 \\}$\n",
    "- $Y =  \\{ n \\in \\mathbb{N} \\mid n \\text{ ist ungerade} \\land n < 20 \\}$\n",
    "\n",
    "Dabei bedeuted $n \\in \\mathbb{N}$, dass n ein *Element* der Natürlichen Zahlen ist, $\\mid$  steht für *mit* und das Zeichen $\\land$ steht für eine logische *und* Verknüpfung.\n"
   ]
  }
 ],
 "metadata": {
  "kernelspec": {
   "display_name": ".venv",
   "language": "python",
   "name": "python3"
  },
  "language_info": {
   "codemirror_mode": {
    "name": "ipython",
    "version": 3
   },
   "file_extension": ".py",
   "mimetype": "text/x-python",
   "name": "python",
   "nbconvert_exporter": "python",
   "pygments_lexer": "ipython3",
   "version": "3.13.3"
  }
 },
 "nbformat": 4,
 "nbformat_minor": 5
}
