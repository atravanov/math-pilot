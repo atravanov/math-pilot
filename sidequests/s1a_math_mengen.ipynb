{
 "cells": [
  {
   "cell_type": "markdown",
   "id": "b872aadf",
   "metadata": {},
   "source": [
    "#### **Einführung**\n",
    "Wir werden folgende Mengen in Zukunft verwenden:\n",
    "\n",
    "\n",
    "- $\\mathbb{N}$ — Menge der **natürlichen Zahlen**  \n",
    "  $\\mathbb{N} = \\{0, 1, 2, 3, \\dots\\}$  \n",
    "  oder ohne Null: $\\mathbb{N}^+ = \\{1, 2, 3, \\dots\\}$\n",
    "\n",
    "- $\\mathbb{Z}$ — Menge der **ganzen Zahlen**  \n",
    "  $\\mathbb{Z} = \\{\\dots, -2, -1, 0, 1, 2, \\dots\\}$\n",
    "\n",
    "- $\\mathbb{Q}$ — Menge der **rationalen Zahlen**  \n",
    "  $\\mathbb{Q} = \\left\\{ \\frac{a}{b} \\,\\middle|\\, a, b \\in \\mathbb{Z},\\ b \\ne 0 \\right\\}$\n",
    "\n",
    "- $\\mathbb{R}$ — Menge der **reellen Zahlen**  \n",
    "  $\\mathbb{R}$ enthält alle rationalen und irrationalen Zahlen\n",
    "\n",
    "- $\\mathbb{P}$ — Menge der **Primzahlen**  \n",
    "  $\\mathbb{P} = \\{2, 3, 5, 7, 11, 13, 17, \\dots\\}$\n",
    "\n",
    "- $\\emptyset$ oder $\\varnothing$ — die **leere Menge**  \n",
    "  $\\emptyset = \\{\\}$\n"
   ]
  },
  {
   "cell_type": "markdown",
   "id": "c395089d",
   "metadata": {},
   "source": [
    "#### **Aufgabe**\n",
    "\n",
    "Ordne die Zahlen den passenden Mengen zu.  \n",
    "Mögliche Mengen sind: $\\mathbb{N}, \\mathbb{Z}, \\mathbb{Q}, \\mathbb{R}, \\mathbb{P}$\n",
    "\n",
    "\n",
    "\n",
    "| Zahl           | Passende Mengen                         |\n",
    "|----------------|------------------------------------------|\n",
    "| $5$            |                          |\n",
    "| $0$           |                         |\n",
    "| $-3$           |                          |\n",
    "| $\\frac{2}{5}$           |                          |\n",
    "| $\\sqrt{2}$           |                        |\n",
    " $\\pi$           |                        |\n",
    " "
   ]
  },
  {
   "cell_type": "markdown",
   "id": "82af68e8",
   "metadata": {},
   "source": [
    "#### **Lösung**\n",
    "Ordne die Zahlen den passenden Mengen zu.  \n",
    "Mögliche Mengen sind: $\\mathbb{N}, \\mathbb{Z}, \\mathbb{Q}, \\mathbb{R}, \\mathbb{P}$\n",
    "\n",
    "\n",
    "\n",
    "| Zahl           | Passende Mengen                         |\n",
    "|----------------|------------------------------------------|\n",
    "| $5$            | $\\mathbb{N}, \\mathbb{Z}, \\mathbb{Q}, \\mathbb{R}, \\mathbb{P}$                         |\n",
    "| $0$           | $\\mathbb{N}, \\mathbb{Z}, \\mathbb{Q}, \\mathbb{R}$                         |\n",
    "| $-3$           | $\\mathbb{Z}, \\mathbb{Q}, \\mathbb{R}$                         |\n",
    "| $\\frac{2}{5}$           | $\\mathbb{Q}, \\mathbb{R}$                          |\n",
    "| $\\sqrt{2}$           | $\\mathbb{R}$                          |\n",
    "| $\\pi$           | $\\mathbb{R}$                          |"
   ]
  }
 ],
 "metadata": {
  "kernelspec": {
   "display_name": ".venv",
   "language": "python",
   "name": "python3"
  },
  "language_info": {
   "codemirror_mode": {
    "name": "ipython",
    "version": 3
   },
   "file_extension": ".py",
   "mimetype": "text/x-python",
   "name": "python",
   "nbconvert_exporter": "python",
   "pygments_lexer": "ipython3",
   "version": "3.13.3"
  }
 },
 "nbformat": 4,
 "nbformat_minor": 5
}
