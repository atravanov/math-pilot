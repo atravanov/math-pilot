{
 "cells": [
  {
   "cell_type": "markdown",
   "id": "68354297",
   "metadata": {},
   "source": [
    "# Grundlagen der Algorithmik\n",
    " Das Hauptziel dieses Unterrichtblockes ist es, einen Mathematischen Baukasten zu entwickeln, mit welchem du algorithmische Aufgabenstellungen präzise formulieren kannst. Somit wirst du in der Lage sein, Kundenanforderungen exakt zu erfassen und die Lösung in korrekte Algorithmen und Datenstrukturen umzusetzen.\n",
    "\n",
    "## Die Menge der Natürlichen Zahlen\n",
    "Wir definieren die *Menge der natürlichen Zahlen* wie folgt: \n",
    "$$\\mathbb{N} = \\{ 0, 1, 2, 3, \\dots \\}$$\n",
    "\n",
    "---\n",
    "\n",
    "#### Beispiel\n",
    "Folgendes sind Beispiele von Mengen, welche natürliche Zahlen beinhalten. \n",
    "* X ist die Menge aller Primzahlen kleiner als 20.\n",
    "* Y ist die Menge aller ungeraden natürlichen Zahlen kleiner als 20.\n",
    "\n",
    "- $X =  \\{2,3,5,7,11,13,17,19\\}$\n",
    "- $Y =  \\{1,3,5,7,9,11,13,15,17,19\\}$\n",
    "\n",
    "In Python kannst du diese Mengen in der korrekten mathematischen Schreibweise initialisieren und mit der print Funktion ausgeben:"
   ]
  },
  {
   "cell_type": "code",
   "execution_count": 110,
   "id": "061f7f4a",
   "metadata": {},
   "outputs": [
    {
     "name": "stdout",
     "output_type": "stream",
     "text": [
      "X =  {2, 3, 5, 7, 11, 13, 17, 19}\n",
      "Y =  {1, 3, 5, 7, 9, 11, 13, 15, 17, 19}\n"
     ]
    }
   ],
   "source": [
    "X = {2,3,5,7,11,13,17,19}\n",
    "Y = {1,3,5,7,9,11,13,15,17,19}\n",
    "\n",
    "print('X = ', X)\n",
    "print('Y = ', Y)\n"
   ]
  },
  {
   "cell_type": "markdown",
   "id": "1b8876c3",
   "metadata": {},
   "source": [
    "Wir können die Mengen X und Y auch beschreibend definieren: \n",
    "\n",
    "- $X =  \\{ n \\in \\mathbb{N} \\mid n \\text{ ist Primzahl} \\land n < 20 \\}$\n",
    "- $Y =  \\{ n \\in \\mathbb{N} \\mid n \\text{ ist ungerade} \\land n < 20 \\}$\n",
    "\n",
    "Dabei bedeuted $n \\in \\mathbb{N}$, dass n ein *Element* der Natürlichen Zahlen ist, $\\mid$  steht für *mit* und das Zeichen $\\land$ steht für eine logische *and* Verknüpfung. Weitere logische Operatoren sind $\\lor$ für *or* und $\\lnot$ für *not*.\n",
    "\n",
    "---\n"
   ]
  },
  {
   "cell_type": "markdown",
   "id": "b26fdafb",
   "metadata": {},
   "source": [
    "## Alphabete, Wörter und Sprachen\n",
    "Alle Daten sind repräsentiert als Zeichenketten von Symbolen.\n",
    "\n",
    ">Defintion: Jede nicht leere, endliche Menge wird als ***Alphabet*** bezeichnet. Jedes Element des Alphabets $\\Sigma$ nennt man ***Symbol*** von $\\Sigma$."
   ]
  },
  {
   "cell_type": "markdown",
   "id": "93b75bb3",
   "metadata": {},
   "source": [
    "## Notationen und Mengenoperationen\n",
    "\n",
    "| Notation           | Bedeutung                                          |\n",
    "|--------------------|----------------------------------------------------|\n",
    "| $A$                | Eine beliebige Menge                               |\n",
    "| $\\vert A \\vert$    | Anzahl Elemente in $A$ (falls endliche Menge)      |\n",
    "| $A^c$              | Komplement von $A$ (not $A$)                       |\n",
    "| $A \\cup B$         | Vereinigung ($A$ or $B$)                           |\n",
    "| $A \\cap B$ or $AB$ | Durchschnitt ($A$ and $B$)                         |\n",
    "| $A - B$            | Differenz (Elemente in $A$ aber nich in $B$)       |\n",
    "| $A \\subseteq B$  | $A$ ist eine echte Teilmenge von $B$ oder gleich $B$ |\n",
    "| $\\emptyset$        | Die leere Menge                                    |"
   ]
  },
  {
   "cell_type": "markdown",
   "id": "8465f357",
   "metadata": {},
   "source": [
    "## Teilmengen\n",
    ">**Defintion Teilmengen**\n",
    "> \n",
    ">Einde Menge $A$ ist eine Teilmenge von $B$, geschrieben als $A \\subseteq B$, falls jedes Element von A auch Element von B ist.\n",
    "\n",
    "In vielen ***Mathematischen Theoremen*** muss bewiesen werden, dass zwei Mengen - sagen wir $C$ und $D$ - gleich sind. In diesem Fall müssen wir zeigen, dass jedes Element von $C$ auch Element von $D$ ist, aber auch gleichzeitig jedes Element von $D$ Element von $C$ ist. Die Aussage $C = D$ ist somit gleichwertig mit der Aussage $C \\subseteq D \\land D \\subseteq C$.\n",
    "\n",
    "#### Beispiel\n",
    "Zeige, dass $C = D$ gilt wo\n",
    "- $C =  \\{ n \\in \\mathbb{N} \\mid n \\text{ ist ein Vielfaches von 15} \\}$\n",
    "- $Y =  \\{ n \\in \\mathbb{N} \\mid n \\text{ ist ein Vielfaches von 3 und 5} \\}$\n",
    "\n",
    "***TODO***: Beweisführung."
   ]
  }
 ],
 "metadata": {
  "kernelspec": {
   "display_name": ".venv",
   "language": "python",
   "name": "python3"
  },
  "language_info": {
   "codemirror_mode": {
    "name": "ipython",
    "version": 3
   },
   "file_extension": ".py",
   "mimetype": "text/x-python",
   "name": "python",
   "nbconvert_exporter": "python",
   "pygments_lexer": "ipython3",
   "version": "3.13.3"
  }
 },
 "nbformat": 4,
 "nbformat_minor": 5
}
