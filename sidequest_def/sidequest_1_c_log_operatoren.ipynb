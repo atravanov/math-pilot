{
 "cells": [
  {
   "cell_type": "markdown",
   "id": "ac618960",
   "metadata": {},
   "source": [
    "# Definitionen und Grundlagen: Boolsche Funktionen\n",
    "\n",
    "---\n",
    "\n",
    "## Lernziele\n",
    "\n",
    "- Du kennst die Wahrheitstabellen und Operatorsymbole für die Operatoren \n",
    "    - Negation: $\\neg x$, $\\overline{x}$\n",
    "    - Logisches Und: $x \\land y$, $x \\cdot y$\n",
    "    - Logisches Oder: $x \\lor y$, $x + y$\n",
    "    - Logisches exklusives Oder: $x \\oplus y$\n",
    "    - Implikation: $x \\Rightarrow y$\n",
    "    - Äquivalenz: $x \\Leftrightarrow y$\n",
    "\n",
    "- Du kennst die wichtigsten Rechenregeln. Dies sind namentlich\n",
    "    - die **Assoziativ- und Kommutativgesetze**,\n",
    "    - die beiden **Distributivgesetze** und\n",
    "    - die beiden **de Morgan Regeln**.\n",
    "- Du kannst beweisen, ob zwei logische Ausdrücke gleichwertig sind, indem du die entsprechenden Wahrheitstabellen vegleichst.\n",
    "\n",
    "\n",
    "---\n",
    "\n",
    "## Ausgangslage\n",
    "Computer basieren auf dem binären Zahlensystem (Alphabet: {0,1}) und nicht auf dem Dezimalen Zahlensystem (Alphabet: {0,1..9}), welches wir noramlerweise in der Mathematik verwenden. Eine solche \"binäre Maschine\" kann sogenannte logische Operationen auf Bit-Ebene durchführen. Die erstaunliche Tatsache, dass mit den Symbolen 0 und 1 für sowohl Information, wie auch logische Beziehung zwischen verschiedenen \"Dingen\" und sogar Algorithmen codiert werden können, macht die Mathematik mit 0 und 1 für uns so spannend und wertvoll. In diesem Kapitel wollen wir uns die Grundlagen und Definitionen der sogenannten Boolschen Algebra erarbeiten.\n"
   ]
  },
  {
   "cell_type": "markdown",
   "id": "99180fed",
   "metadata": {},
   "source": [
    "## Hilfsprogramme\n",
    "Folgende Klassen und Funktionen kannst Du verwenden, um die Resultate der Aufgaben, welche du von Hand gelöst hast, zu kontrollieren. Die Besprechung des Codes erfolgt während des Unterrichts.\n",
    "\n",
    "\n",
    "#### Die Klasse BOOL\n",
    "\n",
    "Da in Python nur eine begrenzte Auswahl an Operator Symbolen vorliegt, definieren wie die Operatoren wie folgt:\n",
    "\n",
    "\n",
    "| Python-Operator | Logischer Operator    | Formel                |                   \n",
    "| --------------- | --------------------- | --------------------- | \n",
    "| `+`             | OR                    | $A \\lor B$            |                   \n",
    "| `*`             | AND                   | $A \\land B$           |                   \n",
    "| `&`             | NAND                  | $\\neg (A \\land B)$    |                   \n",
    "| `\\|`              | NOR                   | $\\neg (A \\lor B)$   |                   \n",
    "| `>>`            | Implikation           | $A \\Rightarrow B$     |                   \n",
    "| `<<`            | Konverse Implikation  | $B \\Rightarrow A$     |                   \n",
    "| `~` (unär)      | NOT                   | $\\neg A$              |                   \n",
    "| `%`             | Äquivalenz            | $A \\Leftrightarrow B$ |                   \n",
    "| `^`             | XOR (exklusives ODER) | $A \\oplus B$          |                   \n"
   ]
  },
  {
   "cell_type": "code",
   "execution_count": 573,
   "id": "1b55e969",
   "metadata": {},
   "outputs": [],
   "source": [
    "class BOOL:\n",
    "    def __init__(self, value):\n",
    "        self.value = bool(value)\n",
    "\n",
    "    def __repr__(self):\n",
    "        return f\"BOOL({self.value})\"\n",
    "\n",
    "    # + für OR (A ∨ B)\n",
    "    def __add__(self, other):\n",
    "        return BOOL(self.value or other.value)\n",
    "\n",
    "    # * für AND (A ∧ B)\n",
    "    def __mul__(self, other):\n",
    "        return BOOL(self.value and other.value)\n",
    "\n",
    "    # & für NAND (¬(A ∧ B))\n",
    "    def __and__(self, other):\n",
    "        return BOOL(not (self.value and other.value))\n",
    "\n",
    "    # | für NOR (¬(A ∨ B))\n",
    "    def __or__(self, other):\n",
    "        return BOOL(not (self.value or other.value))\n",
    "\n",
    "    # >> für Implikation (A ⇒ B ≡ ¬A ∨ B)\n",
    "    def __rshift__(self, other):\n",
    "        return BOOL((not self.value) or other.value)\n",
    "\n",
    "    # << für Konverse Implikation (B ⇒ A ≡ ¬B ∨ A)\n",
    "    def __lshift__(self, other):\n",
    "        return BOOL((not other.value) or self.value)\n",
    "\n",
    "    # ~ für NOT (¬A)\n",
    "    def __invert__(self):\n",
    "        return BOOL(not self.value)\n",
    "\n",
    "    # % für Äquivalenz (XNOR / A ↔ B)\n",
    "    def __mod__(self, other):\n",
    "        return BOOL(self.value == other.value)\n",
    "\n",
    "    # ^ für XOR (A ⊕ B)\n",
    "    def __xor__(self, other):\n",
    "        return BOOL(self.value != other.value)\n",
    "    \n",
    "    def __eq__(self, other):\n",
    "        if isinstance(other, BOOL):\n",
    "            return self.value == other.value\n",
    "        elif isinstance(other, bool):\n",
    "            return self.value == other\n",
    "        return NotImplemented"
   ]
  },
  {
   "cell_type": "markdown",
   "id": "9cc98027",
   "metadata": {},
   "source": [
    "#### Die Funktion check_equivalence"
   ]
  },
  {
   "cell_type": "code",
   "execution_count": 574,
   "id": "d8eb301b",
   "metadata": {},
   "outputs": [],
   "source": [
    "from itertools import product\n",
    "\n",
    "def check_equivalence(expr_1, expr_2, num_vars = 2):\n",
    "    # Alle möglichen BOOL-Objekte: True, False\n",
    "    bools = [BOOL(True), BOOL(False)]\n",
    "    \n",
    "    # Alle möglichen Belegungen für num_vars Variablen\n",
    "    for values in product(bools, repeat=num_vars):\n",
    "        if expr_1(*values) != expr_2(*values):\n",
    "            return False\n",
    "    return True\n"
   ]
  },
  {
   "cell_type": "markdown",
   "id": "b6a6cd50",
   "metadata": {},
   "source": [
    "#### Beispiel Code\n",
    "Im folgenden Code überprüfen wir, ob die Ausdrücke A ⇒ B und (¬A ∨ B) gleichwertig sind."
   ]
  },
  {
   "cell_type": "code",
   "execution_count": 575,
   "id": "374dc1ee",
   "metadata": {},
   "outputs": [
    {
     "name": "stdout",
     "output_type": "stream",
     "text": [
      "True\n"
     ]
    }
   ],
   "source": [
    "\n",
    "# Lambdas: (A ⇒ B) und (¬A ∨ B)\n",
    "expr_1 = lambda x, y: x >> y  # noqa: E731\n",
    "expr_2 = lambda x, y: ~x + y  # noqa: E731\n",
    "\n",
    "print(check_equivalence(expr_1, expr_2))  # True\n"
   ]
  },
  {
   "cell_type": "markdown",
   "id": "8c917813",
   "metadata": {},
   "source": [
    "## Aufgaben\n"
   ]
  },
  {
   "cell_type": "markdown",
   "id": "5a8f56fd",
   "metadata": {},
   "source": [
    "## Zusatzaufgaben (* Freiwillig, nicht Prüfungsstoff)"
   ]
  },
  {
   "cell_type": "markdown",
   "id": "395d7a92",
   "metadata": {},
   "source": [
    "## Theorie\n",
    "### Wahrheitstabellen\n",
    "#### Negation\n",
    "| x | $\\lnot x$|                   \n",
    "| - | -------- |\n",
    "| 0 | 1 |\n",
    "| 1 | 0 |\n",
    "\n",
    "#### Logisches Und\n",
    "| x | y | $x \\land y$|                   \n",
    "| - | - | ------------ | \n",
    "| 0 | 0 | 0 |                   \n",
    "| 0 | 1 | 0 |                   \n",
    "| 1 | 0 | 0 |                   \n",
    "| 1 | 1 | 1 |  \n",
    "\n",
    "#### Logisches Oder\n",
    "| x | y | $x \\lor y$|                   \n",
    "| - | - | ------------ | \n",
    "| 0 | 0 | 0 |                   \n",
    "| 0 | 1 | 1 |                   \n",
    "| 1 | 0 | 1 |                   \n",
    "| 1 | 1 | 1 |  \n",
    "\n",
    "#### Logisches exklusives Oder\n",
    "| x | y | $x \\oplus y$|                   \n",
    "| - | - | ------------ | \n",
    "| 0 | 0 | 0 |                   \n",
    "| 0 | 1 | 1 |                   \n",
    "| 1 | 0 | 1 |                   \n",
    "| 1 | 1 | 0 |  \n",
    "\n",
    "#### Implikation\n",
    "| x | y | $x \\Rightarrow y$|                   \n",
    "| - | - | ------------ | \n",
    "| 0 | 0 | 1 |                   \n",
    "| 0 | 1 | 1 |                   \n",
    "| 1 | 0 | 0 |                   \n",
    "| 1 | 1 | 1 |  \n",
    "\n",
    "#### Äquivalenz\n",
    "| x | y | $x \\Leftrightarrow y$|                   \n",
    "| - | - | ------------ | \n",
    "| 0 | 0 | 1 |                   \n",
    "| 0 | 1 | 0 |                   \n",
    "| 1 | 0 | 0 |                   \n",
    "| 1 | 1 | 1 |  \n",
    "\n",
    "## Kommutativgesetze\n",
    "* $x \\land y = y \\land x$\n",
    "* $x \\lor y = y \\lor x$\n",
    "* $x \\oplus y = y \\oplus x$\n",
    "* $x \\Leftrightarrow y = y \\Leftrightarrow x$\n",
    "\n",
    "## Assoziativgesetze\n",
    "* $(x \\land y) \\land z$ = $x \\land (y \\land z)$\n",
    "* $(x \\lor y) \\lor z$ = $x \\lor (y \\lor z)$\n",
    "* $(x \\oplus y) \\oplus z$ = $x \\oplus (y \\oplus z)$\n",
    "* $(x \\Rightarrow y) \\Rightarrow z$ = $x \\Rightarrow (y \\Rightarrow z)$\n",
    "* $(x \\Leftrightarrow y) \\Leftrightarrow z$ = $x \\Leftrightarrow (y \\Leftrightarrow z)$\n",
    "\n",
    "## Erstes und zweites Distributivgesetz\n",
    "* $(x \\lor y) \\land z$ = $(x \\land z) \\lor (y \\land z)$\n",
    "* $(x \\land y) \\lor z$ = $(x \\lor z) \\land (y \\lor z)$\n",
    "\n",
    "## De Morgan Reglen\n",
    "* $\\lnot (x \\land y) = (\\lnot x \\lor \\lnot y)$\n",
    "* $\\lnot (x \\lor y) = (\\lnot x \\land \\lnot y)$\n"
   ]
  },
  {
   "cell_type": "code",
   "execution_count": 576,
   "id": "b1cc00b3",
   "metadata": {},
   "outputs": [
    {
     "name": "stdout",
     "output_type": "stream",
     "text": [
      "Summe: 255\n",
      "Carry Out: 0\n"
     ]
    }
   ],
   "source": [
    "def full_adder(a, b, c_in):\n",
    "    sum_ = (a ^ b) ^ c_in\n",
    "    c_out = (a & b) | (c_in & (a ^ b))\n",
    "    return sum_, c_out\n",
    "\n",
    "def add_8bit(a, b):\n",
    "    sum_ = 0\n",
    "    c_in = 0\n",
    "    for i in range(8):\n",
    "        a_bit = (a >> i) & 1\n",
    "        b_bit = (b >> i) & 1\n",
    "        s, c_out = full_adder(a_bit, b_bit, c_in)\n",
    "        sum_ |= (s << i)\n",
    "        c_in = c_out\n",
    "    return sum_, c_in\n",
    "\n",
    "# Beispiel:\n",
    "a = 0b10101010\n",
    "b = 0b01010101\n",
    "s, carry_out = add_8bit(a, b)\n",
    "print(\"Summe:\", s)\n",
    "print(\"Carry Out:\", carry_out)\n"
   ]
  }
 ],
 "metadata": {
  "kernelspec": {
   "display_name": ".venv",
   "language": "python",
   "name": "python3"
  },
  "language_info": {
   "codemirror_mode": {
    "name": "ipython",
    "version": 3
   },
   "file_extension": ".py",
   "mimetype": "text/x-python",
   "name": "python",
   "nbconvert_exporter": "python",
   "pygments_lexer": "ipython3",
   "version": "3.13.3"
  }
 },
 "nbformat": 4,
 "nbformat_minor": 5
}
