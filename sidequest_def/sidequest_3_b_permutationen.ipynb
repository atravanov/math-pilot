{
 "cells": [
  {
   "cell_type": "markdown",
   "id": "bdec097b",
   "metadata": {},
   "source": [
    "# Sidequest 3.b – Permutationen\n",
    "\n",
    "---\n",
    "\n",
    "## Lernziele\n",
    "\n",
    "- Du verstehst den Begriff der Permutation als Anordnung von Objekten.\n",
    "- Du erkennst, wann eine Permutationsaufgabe vorliegt.\n",
    "- Du kannst die Anzahl der Permutationen berechnen (mit und ohne Wiederholung).\n",
    "- Du verstehst den Zusammenhang zwischen Permutationen und der Fakultät $n!$.\n",
    "- Du kannst Permutationen mit Python erzeugen und zählen.\n",
    "\n",
    "---\n",
    "\n",
    "## Ausgangslage\n",
    "\n",
    "Eine **Permutation** ist eine Anordnung aller Elemente einer Menge in einer bestimmten Reihenfolge.  \n",
    "Beispiel: Die Permutationen der Menge $\\{A, B, C\\}$ sind:\n",
    "\n",
    "- $ABC$, $ACB$, $BAC$, $BCA$, $CAB$, $CBA$\n",
    "\n",
    "Die Anzahl solcher Anordnungen berechnet sich mit der **Fakultät** $n!$:\n",
    "\n",
    "$$\n",
    "n! = 1 \\cdot 2 \\cdot 3 \\cdots (n-1) \\cdot n\n",
    "$$\n"
   ]
  },
  {
   "cell_type": "markdown",
   "id": "4a4c2b9a",
   "metadata": {},
   "source": [
    "## Aufgaben\n",
    "\n",
    "### Aufgabe 1: Was ist eine Permutation?\n",
    "\n",
    "Formuliere in einem Satz, was eine Permutation ist.\n"
   ]
  },
  {
   "cell_type": "markdown",
   "id": "251ee07c",
   "metadata": {},
   "source": [
    "### Aufgabe 2: Anzahl der Permutationen berechnen\n",
    "\n",
    "Berechne, wie viele Permutationen es von $n = 4$ unterscheidbaren Objekten gibt.  \n",
    "Gib das Ergebnis sowohl als Ausdruck mit Fakultät als auch als Zahl an.\n"
   ]
  },
  {
   "cell_type": "markdown",
   "id": "b629ca99",
   "metadata": {},
   "source": [
    "### Aufgabe 3: Fakultätsfunktion in Python\n",
    "\n",
    "Schreibe eine Funktion `fakultaet(n)`, welche die Fakultät von $n$ mit einer `for`-Schleife berechnet.  \n",
    "Berechne damit $5!$\n"
   ]
  },
  {
   "cell_type": "markdown",
   "id": "5e40ac92",
   "metadata": {},
   "source": [
    "### Aufgabe 4: Permutationen erzeugen\n",
    "\n",
    "Nutze `itertools.permutations`, um alle Permutationen der Liste `[1, 2, 3]` zu erzeugen und auszugeben.\n"
   ]
  },
  {
   "cell_type": "markdown",
   "id": "46e1b64d",
   "metadata": {},
   "source": [
    "### Aufgabe 5: Permutationen mit Wiederholung\n",
    "\n",
    "Wie viele Permutationen gibt es von dem Wort **TOTO**?  \n",
    "Tipp: Hier gibt es Wiederholungen. Verwende die Formel:\n",
    "\n",
    "$$\n",
    "\\frac{n!}{k_1! \\cdot k_2! \\cdots k_r!}\n",
    "$$\n"
   ]
  },
  {
   "cell_type": "markdown",
   "id": "a5c27dbf",
   "metadata": {},
   "source": [
    "---\n",
    "\n",
    "## Theorie\n",
    "\n",
    "### Permutation ohne Wiederholung\n",
    "\n",
    "Wenn alle $n$ Objekte unterschiedlich sind, gibt es:\n",
    "\n",
    "$$\n",
    "n!\n",
    "$$\n",
    "\n",
    "Möglichkeiten, sie zu permutieren.\n",
    "\n",
    "---\n",
    "\n",
    "### Permutation mit Wiederholung\n",
    "\n",
    "Wenn manche Objekte gleich sind:\n",
    "\n",
    "$$\n",
    "\\frac{n!}{k_1! \\cdot k_2! \\cdots k_r!}\n",
    "$$\n",
    "\n",
    "Dabei ist $k_i$ die Anzahl gleicher Elemente des Typs $i$.\n",
    "\n",
    "Beispiel für TOTO:\n",
    "\n",
    "- 4 Buchstaben: $n = 4$\n",
    "- 2 T, 2 O:  \n",
    "  $$\n",
    "  \\Rightarrow \\frac{4!}{2! \\cdot 2!} = 6\n",
    "  $$\n",
    "\n",
    "---\n",
    "\n",
    "### Python-Tipp\n",
    "\n",
    "```python\n",
    "import itertools\n",
    "\n",
    "# Liste aller Permutationen erzeugen\n",
    "perms = list(itertools.permutations([1, 2, 3]))\n",
    "print(perms)\n",
    "```\n",
    "\n",
    "Oder: eigene Fakultätsfunktion mit `for`-Schleife schreiben.\n"
   ]
  }
 ],
 "metadata": {
  "kernelspec": {
   "display_name": ".venv",
   "language": "python",
   "name": "python3"
  },
  "language_info": {
   "codemirror_mode": {
    "name": "ipython",
    "version": 3
   },
   "file_extension": ".py",
   "mimetype": "text/x-python",
   "name": "python",
   "nbconvert_exporter": "python",
   "pygments_lexer": "ipython3",
   "version": "3.13.3"
  }
 },
 "nbformat": 4,
 "nbformat_minor": 5
}
