{
 "cells": [
  {
   "cell_type": "markdown",
   "id": "36b8601d",
   "metadata": {},
   "source": [
    "# Sidequest 1.1 – Die Menge der natürlichen Zahlen\n",
    "\n",
    "---\n",
    "\n",
    "## Lernziele\n",
    "\n",
    "- Du kannst Mengen in Python sowohl aufzählend als auch beschreibend definieren.\n",
    "- Du verstehst die Bedeutung der Symbole $\\in$, $\\mid$, $\\land$ und $\\mathbb{N}$.\n",
    "- Du kannst mathematische Mengen schriftlich und programmatisch ausdrücken.\n",
    "\n",
    "---\n",
    "\n",
    "## Einführung\n",
    "\n",
    "In Kapitel 1.1 hast du die Menge der natürlichen Zahlen kennengelernt. Du hast verschiedene Darstellungsformen für Mengen gesehen:\n",
    "\n",
    "- aufzählende Schreibweise\n",
    "- beschreibende Schreibweise (mit Bedingungen)\n",
    "- prädikatenlogische Notation\n",
    "\n",
    "Ausserdem wird im Anhang (siehe unten) besprochen, wie man Mengen in Python durch Set Comprehensions erzeugen kann. Dieses Sidequest dient der praktischen Anwendung dieser Konzepte.\n",
    "\n",
    "---\n",
    "\n",
    "## Wiederholung\n",
    "\n",
    "Die Menge der natürlichen Zahlen ist definiert als:\n",
    "\n",
    "$$\n",
    "\\mathbb{N} = \\{0, 1, 2, 3, \\dots\\}\n",
    "$$\n",
    "\n",
    "Je nach Kontext kann auch die Schreibweise ohne Null verwendet werden:\n",
    "\n",
    "$$\n",
    "\\mathbb{N}^+ = \\{1, 2, 3, \\dots\\}\n",
    "$$\n"
   ]
  },
  {
   "cell_type": "markdown",
   "id": "b9715803",
   "metadata": {},
   "source": [
    "### Aufgabe 1: Aufzählende Darstellung\n",
    "\n",
    "Gib in Python die Menge **X** aller natürlichen Zahlen kleiner als 10 in aufzählender Schreibweise an. Verwende `print()` zur Ausgabe.\n"
   ]
  },
  {
   "cell_type": "code",
   "execution_count": 107,
   "id": "e605da44",
   "metadata": {},
   "outputs": [
    {
     "name": "stdout",
     "output_type": "stream",
     "text": [
      "{Ellipsis}\n"
     ]
    }
   ],
   "source": [
    "# TODO: Ergänze die Menge X\n",
    "X = { ... }\n",
    "print(X)\n"
   ]
  },
  {
   "cell_type": "markdown",
   "id": "b8d5d335",
   "metadata": {},
   "source": [
    "### Lösung Aufgabe 1"
   ]
  },
  {
   "cell_type": "code",
   "execution_count": 108,
   "id": "0bd5942f",
   "metadata": {},
   "outputs": [
    {
     "name": "stdout",
     "output_type": "stream",
     "text": [
      "{0, 1, 2, 3, 4, 5, 6, 7, 8, 9}\n"
     ]
    }
   ],
   "source": [
    "X = {0, 1, 2, 3, 4, 5, 6, 7, 8, 9}\n",
    "print(X)\n"
   ]
  },
  {
   "cell_type": "markdown",
   "id": "b51ac2f8",
   "metadata": {},
   "source": [
    "### Aufgabe 2: Beschreibende Darstellung\n",
    "\n",
    "Definiere die Menge **Y** der ungeraden natürlichen Zahlen kleiner als 20 mithilfe eines Set Comprehension (beschreibende Form):\n"
   ]
  },
  {
   "cell_type": "code",
   "execution_count": 109,
   "id": "57cd361c",
   "metadata": {},
   "outputs": [
    {
     "name": "stdout",
     "output_type": "stream",
     "text": [
      "{0, 1, 2, 3, 4, 5, 6, 7, 8, 9, 10, 11, 12, 13, 14, 15, 16, 17, 18, 19}\n"
     ]
    }
   ],
   "source": [
    "# TODO: Definiere die Menge Y mit einer Bedingung\n",
    "Y = {n for n in range(20) if ... }\n",
    "print(Y)\n"
   ]
  },
  {
   "cell_type": "markdown",
   "id": "38cfb6e7",
   "metadata": {},
   "source": [
    "### Lösung Aufgabe 2"
   ]
  },
  {
   "cell_type": "code",
   "execution_count": 110,
   "id": "6999b110",
   "metadata": {},
   "outputs": [
    {
     "name": "stdout",
     "output_type": "stream",
     "text": [
      "{1, 3, 5, 7, 9, 11, 13, 15, 17, 19}\n"
     ]
    }
   ],
   "source": [
    "Y = {n for n in range(20) if n % 2 == 1}\n",
    "print(Y)\n"
   ]
  },
  {
   "cell_type": "markdown",
   "id": "1e2b816c",
   "metadata": {},
   "source": [
    "### Aufgabe 3: Prädikaten-Logik und Sprache\n",
    "\n",
    "Formuliere die Mengen **X** und **Y** aus Aufgabe 1 und 2 in mathematischer Prädikaten-Schreibweise.\n",
    "\n",
    "Nutze folgende Vorlage:\n",
    "\n",
    "- $X = \\{ n \\in \\mathbb{N} \\mid \\text{...} \\}$\n",
    "- $Y = \\{ n \\in \\mathbb{N} \\mid \\text{...} \\}$\n"
   ]
  },
  {
   "cell_type": "markdown",
   "id": "a4ccebac",
   "metadata": {},
   "source": [
    "### Lösung Aufgabe 3\n",
    "\n",
    "- $X = \\{ n \\in \\mathbb{N} \\mid n < 10 \\}$\n",
    "- $Y = \\{ n \\in \\mathbb{N} \\mid n < 20 \\land n \\bmod 2 = 1 \\}$\n"
   ]
  },
  {
   "cell_type": "markdown",
   "id": "b3648a98",
   "metadata": {},
   "source": [
    "### Aufgabe 4: Herausforderung\n",
    "\n",
    "Erstelle die Menge **P** aller Primzahlen kleiner als 50. Verwende dazu eine eigene Funktion `ist_prim(n)`, um zu prüfen, ob eine Zahl eine Primzahl ist.\n"
   ]
  },
  {
   "cell_type": "code",
   "execution_count": 111,
   "id": "d1bd356e",
   "metadata": {},
   "outputs": [
    {
     "name": "stdout",
     "output_type": "stream",
     "text": [
      "set()\n"
     ]
    }
   ],
   "source": [
    "# TODO: Implementiere eine Funktion zur Primzahlprüfung\n",
    "def ist_prim(n):\n",
    "    ...\n",
    "\n",
    "P = {n for n in range(50) if ist_prim(n)}\n",
    "print(P)\n"
   ]
  },
  {
   "cell_type": "markdown",
   "id": "263772b7",
   "metadata": {},
   "source": [
    "### Lösung Aufgabe 4"
   ]
  },
  {
   "cell_type": "code",
   "execution_count": 112,
   "id": "73317969",
   "metadata": {},
   "outputs": [
    {
     "name": "stdout",
     "output_type": "stream",
     "text": [
      "{2, 3, 5, 37, 7, 41, 11, 43, 13, 47, 17, 19, 23, 29, 31}\n"
     ]
    }
   ],
   "source": [
    "def ist_prim(n):\n",
    "    if n < 2:\n",
    "        return False\n",
    "    for i in range(2, int(n**0.5) + 1):\n",
    "        if n % i == 0:\n",
    "            return False\n",
    "    return True\n",
    "\n",
    "P = {n for n in range(50) if ist_prim(n)}\n",
    "print(P)\n"
   ]
  },
  {
   "cell_type": "markdown",
   "id": "abbc0b68",
   "metadata": {},
   "source": [
    "\n",
    "---\n",
    "# Anhang\n",
    "In Python kannst du **Mengen** ganz elegant mit sogenannten **Set Comprehensions** erstellen. Diese funktionieren ähnlich wie List Comprehensions, verwenden aber geschweifte Klammern `{}` und erzeugen automatisch eine **Menge ohne doppelte Werte**.\n",
    "\n",
    "```python\n",
    "{ausdruck for variable in iterable if bedingung}\n",
    "```\n",
    "\n",
    "* `ausdruck`: was in die Menge eingefügt wird  \n",
    "* `variable in iterable`: Schleife über Werte  \n",
    "* `if bedingung`: (optional) Filter, nur wenn Bedingung erfüllt ist\n",
    "\n",
    "Wichtig:\n",
    "* **Duplikate** werden automatisch entfernt\n",
    "* Die Elemente sind **nicht sortiert**\n",
    "* Set Comprehensions sind besonders praktisch für **mathematische Mengen**\n",
    "\n",
    "#### Beispiele"
   ]
  },
  {
   "cell_type": "code",
   "execution_count": 113,
   "id": "189b35c8",
   "metadata": {},
   "outputs": [
    {
     "data": {
      "text/plain": [
       "{0, 1, 2, 3, 4, 5, 6, 7, 8, 9}"
      ]
     },
     "execution_count": 113,
     "metadata": {},
     "output_type": "execute_result"
    }
   ],
   "source": [
    "# Alle natürlichen Zahlen kleiner als 10:\n",
    "{n for n in range(10)}"
   ]
  },
  {
   "cell_type": "code",
   "execution_count": 114,
   "id": "cf9837bd",
   "metadata": {},
   "outputs": [
    {
     "data": {
      "text/plain": [
       "{0, 2, 4, 6, 8, 10, 12, 14, 16, 18}"
      ]
     },
     "execution_count": 114,
     "metadata": {},
     "output_type": "execute_result"
    }
   ],
   "source": [
    "# Nur gerade Zahlen kleiner als 20:\n",
    "{n for n in range(20) if n % 2 == 0}"
   ]
  },
  {
   "cell_type": "code",
   "execution_count": 115,
   "id": "9bfd44b6",
   "metadata": {},
   "outputs": [
    {
     "data": {
      "text/plain": [
       "{1, 4, 9, 16, 25, 36, 49, 64, 81, 100}"
      ]
     },
     "execution_count": 115,
     "metadata": {},
     "output_type": "execute_result"
    }
   ],
   "source": [
    "# Quadratzahlen von 1 bis 10:\n",
    "{n**2 for n in range(1, 11)}"
   ]
  }
 ],
 "metadata": {
  "kernelspec": {
   "display_name": ".venv",
   "language": "python",
   "name": "python3"
  },
  "language_info": {
   "codemirror_mode": {
    "name": "ipython",
    "version": 3
   },
   "file_extension": ".py",
   "mimetype": "text/x-python",
   "name": "python",
   "nbconvert_exporter": "python",
   "pygments_lexer": "ipython3",
   "version": "3.13.3"
  }
 },
 "nbformat": 4,
 "nbformat_minor": 5
}
