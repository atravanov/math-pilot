{
 "cells": [
  {
   "cell_type": "markdown",
   "id": "a4d38126",
   "metadata": {},
   "source": [
    "# Sidequest 4.1 – Alphabete, Wörter und Sprachen\n",
    "\n",
    "---\n",
    "\n",
    "## Lernziele\n",
    "\n",
    "- Du verstehst die mathematischen Begriffe **Alphabet**, **Wort** und **Sprache**.\n",
    "- Du kannst die Menge $\\Sigma^*$ beschreiben und konkrete Elemente angeben.\n",
    "- Du kannst Wörter hinsichtlich ihrer Länge und Struktur analysieren.\n",
    "- Du kannst mit formalen Definitionen wie $\\{a^n \\mid n \\in \\mathbb{N}\\}$ umgehen.\n",
    "- Du kennst wichtige Beispiele aus Logik, Informatik und Mathematik.\n",
    "\n",
    "---\n",
    "\n",
    "## Ausgangslage\n",
    "\n",
    "Die Begriffe **Alphabet**, **Wort** und **Sprache** bilden das Fundament der theoretischen Informatik. Sie erlauben es, Aussagen, Programme, Protokolle oder Logikformeln als Zeichenfolgen zu modellieren. Damit bilden sie die Grundlage für viele Themen wie Automaten, Grammatiken oder die formale Semantik von Programmen.\n"
   ]
  },
  {
   "cell_type": "markdown",
   "id": "0f8feabf",
   "metadata": {},
   "source": [
    "### Aufgabe 1: Alphabet und Wörter\n",
    "\n",
    "Gegeben sei $\\Sigma = \\{a, b\\}$.  \n",
    "Welche der folgenden sind gültige Wörter über $\\Sigma$?\n",
    "\n",
    "a) $abb$  \n",
    "b) $bac$  \n",
    "c) $\\varepsilon$  \n",
    "d) $ab1$\n"
   ]
  },
  {
   "cell_type": "markdown",
   "id": "285dd50d",
   "metadata": {},
   "source": [
    "#### Lösung 1\n",
    "\n",
    "a) ✅ gültig  \n",
    "b) ❌ $c$ ist nicht in $\\Sigma$  \n",
    "c) ✅ $\\varepsilon$ ist immer gültig  \n",
    "d) ❌ $1$ ist kein Symbol in $\\Sigma$\n"
   ]
  },
  {
   "cell_type": "markdown",
   "id": "6d5a7d95",
   "metadata": {},
   "source": [
    "### Aufgabe 2: Wortlängen\n",
    "\n",
    "Berechne die Wortlänge $|w|$ für folgende Wörter:\n",
    "\n",
    "a) $abba$  \n",
    "b) $\\varepsilon$  \n",
    "c) $aaaaaaa$\n"
   ]
  },
  {
   "cell_type": "markdown",
   "id": "f980a801",
   "metadata": {},
   "source": [
    "#### Lösung 2\n",
    "\n",
    "a) $|abba| = 4$  \n",
    "b) $|\\varepsilon| = 0$  \n",
    "c) $|aaaaaaa| = 7$\n"
   ]
  },
  {
   "cell_type": "markdown",
   "id": "ee95417b",
   "metadata": {},
   "source": [
    "### Aufgabe 3: Konkatenation\n",
    "\n",
    "Gegeben: $u = ab$, $v = ba$\n",
    "\n",
    "a) Was ist $uv$?  \n",
    "b) Was ist $vu$?  \n",
    "c) Was ist $|uv|$?\n"
   ]
  },
  {
   "cell_type": "markdown",
   "id": "ca4714a6",
   "metadata": {},
   "source": [
    "#### Lösung 3\n",
    "\n",
    "a) $uv = abba$  \n",
    "b) $vu = baab$  \n",
    "c) $|uv| = 4$\n"
   ]
  },
  {
   "cell_type": "markdown",
   "id": "14988d87",
   "metadata": {},
   "source": [
    "### Aufgabe 4: Mengen von Wörtern\n",
    "\n",
    "Gegeben sei $\\Sigma = \\{a, b\\}$. Beschreibe die folgenden Mengen:\n",
    "\n",
    "a) $\\Sigma^0$  \n",
    "b) $\\Sigma^1$  \n",
    "c) $\\Sigma^2$  \n",
    "d) $\\Sigma^*$ (bis Länge 2)\n"
   ]
  },
  {
   "cell_type": "markdown",
   "id": "c0a653d8",
   "metadata": {},
   "source": [
    "#### Lösung 4\n",
    "\n",
    "a) $\\Sigma^0 = \\{\\varepsilon\\}$  \n",
    "b) $\\Sigma^1 = \\{a, b\\}$  \n",
    "c) $\\Sigma^2 = \\{aa, ab, ba, bb\\}$  \n",
    "d) $\\Sigma^* = \\{\\varepsilon, a, b, aa, ab, ba, bb, \\dots\\}$\n"
   ]
  },
  {
   "cell_type": "markdown",
   "id": "c81a8200",
   "metadata": {},
   "source": [
    "### Aufgabe 5: Sprachbeschreibung\n",
    "\n",
    "Welche Wörter enthält die Sprache  \n",
    "$$\n",
    "L = \\{a^n b^n \\mid n \\in \\mathbb{N}\\}\n",
    "$$  \n",
    "Gib die ersten vier Wörter in dieser Sprache an.\n"
   ]
  },
  {
   "cell_type": "markdown",
   "id": "8269b336",
   "metadata": {},
   "source": [
    "#### Lösung 5\n",
    "\n",
    "$L$ enthält Wörter mit gleich vielen $a$ und $b$, zuerst nur $a$, dann nur $b$:\n",
    "\n",
    "- $\\varepsilon$  \n",
    "- $ab$  \n",
    "- $aabb$  \n",
    "- $aaabbb$  \n",
    "- $aaaabbbb$  \n",
    "…\n"
   ]
  },
  {
   "cell_type": "markdown",
   "id": "b6de0c38",
   "metadata": {},
   "source": [
    "### Aufgabe 6: Sprache oder nicht?\n",
    "\n",
    "Gegeben sind folgende Mengen:\n",
    "\n",
    "a) $L_1 = \\{a, ab, ba\\}$  \n",
    "b) $L_2 = \\{(n \\in \\mathbb{N}) \\mid n \\text{ ist prim}\\}$  \n",
    "c) $L_3 = \\{a^n \\mid n$ ist gerade$\\}$\n",
    "\n",
    "Welche davon sind Sprachen über $\\Sigma = \\{a, b\\}$?\n"
   ]
  },
  {
   "cell_type": "markdown",
   "id": "f547bc83",
   "metadata": {},
   "source": [
    "#### Lösung 6\n",
    "\n",
    "a) ✅ $L_1$ ist eine Sprache (endliche Menge von Wörtern über $\\Sigma$)  \n",
    "b) ❌ $L_2$ enthält Zahlen, keine Wörter → keine Sprache über $\\Sigma$  \n",
    "c) ✅ $L_3$ ist korrekt: nur Wörter aus Symbolen in $\\Sigma$\n"
   ]
  },
  {
   "cell_type": "markdown",
   "id": "0af78bba",
   "metadata": {},
   "source": [
    "---\n",
    "\n",
    "## Theorie\n",
    "\n",
    "### Alphabet\n",
    "\n",
    "Ein **Alphabet** $\\Sigma$ ist eine **endliche, nichtleere Menge von Symbolen**.\n",
    "\n",
    "**Beispiele:**\n",
    "\n",
    "- $\\Sigma = \\{0,1\\}$ (Binäralphabet)  \n",
    "- $\\Sigma = \\{a, b, c\\}$ (Buchstabenalphabet)  \n",
    "- $\\Sigma = \\{\\land, \\lor, \\lnot, 0, 1, (, )\\}$ (boolesche Symbole)\n",
    "\n",
    "---\n",
    "\n",
    "### Wort\n",
    "\n",
    "Ein **Wort** ist eine **endliche Folge von Symbolen** aus einem Alphabet $\\Sigma$.\n",
    "\n",
    "- $w = a_1 a_2 \\dots a_n$, wobei $a_i \\in \\Sigma$\n",
    "- Die Menge aller Wörter über $\\Sigma$: $\\Sigma^*$\n",
    "- Das **leere Wort**: $\\varepsilon$\n",
    "- Die **Länge** eines Wortes $w$ ist $|w|$\n",
    "\n",
    "---\n",
    "\n",
    "### Sprache\n",
    "\n",
    "Eine **Sprache** ist eine **Teilmenge von $\\Sigma^*$**, also eine **Menge von Wörtern** über einem Alphabet $\\Sigma$.\n",
    "\n",
    "**Formale Definition:**  \n",
    "Sei $\\Sigma$ ein Alphabet. Dann ist $L \\subseteq \\Sigma^*$ eine Sprache.\n",
    "\n",
    "---\n",
    "\n",
    "### Beispiele für Sprachen\n",
    "\n",
    "| Sprache                      | Beschreibung                                      |\n",
    "|-----------------------------|---------------------------------------------------|\n",
    "| $L_1 = \\{ab, ba, bb\\}$     | Endliche Sprache                                 |\n",
    "| $L_2 = \\{a^n \\mid n \\in \\mathbb{N}\\}$ | Unendliche Sprache mit nur a’s            |\n",
    "| $L_{even} = \\{w \\in \\{0,1\\}^* \\mid |w| \\equiv 0 \\mod 2\\}$ | Binärwörter gerader Länge |\n",
    "| $L_{bool}$                   | Syntax-korrekte boolesche Ausdrücke              |\n",
    "| $L_{taut}$                   | Alle Tautologien (wahre boolesche Ausdrücke)     |\n",
    "| $L_{pal}$                    | Palindrome: $w = w^{\\text{rev}}$                |\n",
    "| $L_{match}$                  | Korrekt geklammerte Klammerausdrücke             |\n"
   ]
  }
 ],
 "metadata": {},
 "nbformat": 4,
 "nbformat_minor": 5
}
