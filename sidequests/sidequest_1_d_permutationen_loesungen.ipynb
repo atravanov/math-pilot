{
 "cells": [
  {
   "cell_type": "markdown",
   "id": "bdec097b",
   "metadata": {},
   "source": [
    "# Sidequest 1.4 – Permutationen\n",
    "\n",
    "---\n",
    "\n",
    "## Lernziele\n",
    "\n",
    "- Du verstehst den Begriff der Permutation als Anordnung von Objekten.\n",
    "- Du erkennst, wann eine Permutationsaufgabe vorliegt.\n",
    "- Du kannst die Anzahl der Permutationen berechnen (mit und ohne Wiederholung).\n",
    "- Du verstehst den Zusammenhang zwischen Permutationen und der Fakultät $n!$.\n",
    "- Du kannst Permutationen mit Python erzeugen und zählen.\n",
    "\n",
    "---\n",
    "\n",
    "## Ausgangslage\n",
    "\n",
    "Eine **Permutation** ist eine Anordnung aller Elemente einer Menge in einer bestimmten Reihenfolge.  \n",
    "Beispiel: Die Permutationen der Menge $\\{A, B, C\\}$ sind:\n",
    "\n",
    "- $ABC$, $ACB$, $BAC$, $BCA$, $CAB$, $CBA$\n",
    "\n",
    "Die Anzahl solcher Anordnungen berechnet sich mit der **Fakultät** $n!$:\n",
    "\n",
    "$$\n",
    "n! = 1 \\cdot 2 \\cdot 3 \\cdots (n-1) \\cdot n\n",
    "$$\n"
   ]
  },
  {
   "cell_type": "markdown",
   "id": "4a4c2b9a",
   "metadata": {},
   "source": [
    "## Aufgaben\n",
    "\n",
    "### Aufgabe 1: Was ist eine Permutation?\n",
    "\n",
    "Formuliere in einem Satz, was eine Permutation ist.\n"
   ]
  },
  {
   "cell_type": "markdown",
   "id": "c87dd052",
   "metadata": {},
   "source": [
    "### Lösung 1\n",
    "\n",
    "Eine Permutation ist eine Anordnung aller Elemente einer Menge in einer bestimmten Reihenfolge.\n"
   ]
  },
  {
   "cell_type": "markdown",
   "id": "251ee07c",
   "metadata": {},
   "source": [
    "### Aufgabe 2: Anzahl der Permutationen berechnen\n",
    "\n",
    "Berechne, wie viele Permutationen es von $n = 4$ unterscheidbaren Objekten gibt.  \n",
    "Gib das Ergebnis sowohl als Ausdruck mit Fakultät als auch als Zahl an.\n"
   ]
  },
  {
   "cell_type": "markdown",
   "id": "f9c498f2",
   "metadata": {},
   "source": [
    "### Lösung 2\n",
    "\n",
    "$4! = 4 \\cdot 3 \\cdot 2 \\cdot 1 = 24$  \n",
    "Es gibt 24 Permutationen.\n"
   ]
  },
  {
   "cell_type": "markdown",
   "id": "b629ca99",
   "metadata": {},
   "source": [
    "### Aufgabe 3: Fakultätsfunktion in Python\n",
    "\n",
    "Schreibe eine Funktion `fakultaet(n)`, welche die Fakultät von $n$ mit einer `for`-Schleife berechnet.  \n",
    "Berechne damit $5!$\n"
   ]
  },
  {
   "cell_type": "code",
   "execution_count": null,
   "id": "c3a2344a",
   "metadata": {},
   "outputs": [],
   "source": [
    "def fakultaet(n):\n",
    "    ergebnis = 1\n",
    "    for i in range(2, n+1):\n",
    "        ergebnis *= i\n",
    "    return ergebnis\n",
    "\n",
    "print(fakultaet(5))  # Ausgabe: 120\n"
   ]
  },
  {
   "cell_type": "markdown",
   "id": "5e40ac92",
   "metadata": {},
   "source": [
    "### Aufgabe 4: Permutationen erzeugen\n",
    "\n",
    "Nutze `itertools.permutations`, um alle Permutationen der Liste `[1, 2, 3]` zu erzeugen und auszugeben.\n"
   ]
  },
  {
   "cell_type": "code",
   "execution_count": null,
   "id": "36e59c74",
   "metadata": {},
   "outputs": [],
   "source": [
    "import itertools\n",
    "\n",
    "perm = itertools.permutations([1, 2, 3])\n",
    "for p in perm:\n",
    "    print(p)\n"
   ]
  },
  {
   "cell_type": "markdown",
   "id": "46e1b64d",
   "metadata": {},
   "source": [
    "### Aufgabe 5: Permutationen mit Wiederholung\n",
    "\n",
    "Wie viele Permutationen gibt es von dem Wort **TOTO**?  \n",
    "Tipp: Hier gibt es Wiederholungen. Verwende die Formel:\n",
    "\n",
    "$$\n",
    "\\frac{n!}{k_1! \\cdot k_2! \\cdots k_r!}\n",
    "$$\n"
   ]
  },
  {
   "cell_type": "markdown",
   "id": "173429f3",
   "metadata": {},
   "source": [
    "### Lösung 5\n",
    "\n",
    "Das Wort **TOTO** hat 4 Buchstaben: $n = 4$  \n",
    "Dabei kommen **T** und **O** je 2-mal vor.\n",
    "\n",
    "$$\n",
    "\\frac{4!}{2! \\cdot 2!} = \\frac{24}{4} = 6\n",
    "$$\n",
    "\n",
    "Es gibt 6 verschiedene Permutationen.\n"
   ]
  },
  {
   "cell_type": "markdown",
   "id": "a5c27dbf",
   "metadata": {},
   "source": [
    "---\n",
    "\n",
    "## Theorie\n",
    "\n",
    "### Permutation ohne Wiederholung\n",
    "\n",
    "Wenn alle $n$ Objekte unterschiedlich sind, gibt es:\n",
    "\n",
    "$$\n",
    "n!\n",
    "$$\n",
    "\n",
    "Möglichkeiten, sie zu permutieren.\n",
    "\n",
    "---\n",
    "\n",
    "### Permutation mit Wiederholung\n",
    "\n",
    "Wenn manche Objekte gleich sind:\n",
    "\n",
    "$$\n",
    "\\frac{n!}{k_1! \\cdot k_2! \\cdots k_r!}\n",
    "$$\n",
    "\n",
    "Dabei ist $k_i$ die Anzahl gleicher Elemente des Typs $i$.\n",
    "\n",
    "Beispiel für TOTO:\n",
    "\n",
    "- 4 Buchstaben: $n = 4$\n",
    "- 2 T, 2 O:  \n",
    "  $$\n",
    "  \\Rightarrow \\frac{4!}{2! \\cdot 2!} = 6\n",
    "  $$\n",
    "\n",
    "---\n",
    "\n",
    "### Python-Tipp\n",
    "\n",
    "```python\n",
    "import itertools\n",
    "\n",
    "# Liste aller Permutationen erzeugen\n",
    "perms = list(itertools.permutations([1, 2, 3]))\n",
    "print(perms)\n",
    "```\n",
    "\n",
    "Oder: eigene Fakultätsfunktion mit `for`-Schleife schreiben.\n"
   ]
  }
 ],
 "metadata": {},
 "nbformat": 4,
 "nbformat_minor": 5
}
