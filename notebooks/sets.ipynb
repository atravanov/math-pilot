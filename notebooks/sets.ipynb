{
 "cells": [
  {
   "cell_type": "markdown",
   "id": "68354297",
   "metadata": {},
   "source": [
    "# Grundlagen der Algorithmik\n",
    " Das Hauptziel dieses Unterrichtblockes ist es, einen Mathematischen Baukasten zu entwickeln, mit welchem du algorithmische Aufgabenstellungen präzise formulieren kannst. Somit wirst du in der Lage sein, Kundenanforderungen exakt zu erfassen und die Lösung in korrekte Algorithmen und Datenstrukturen umzusetzen.\n",
    "\n",
    "## 1 Mengen, Permutationen und der Binomische Lehrsatz\n",
    "### 1.1 Die Menge der Natürlichen Zahlen\n",
    "Wir definieren die *Menge der natürlichen Zahlen* wie folgt: \n",
    "$$\\mathbb{N} = \\{ 0, 1, 2, 3, \\dots \\}$$\n",
    "\n",
    "***Beispiel:***\n",
    "\n",
    "Folgendes sind Beispiele von Mengen, welche natürliche Zahlen beinhalten. \n",
    "* X ist die Menge aller Primzahlen kleiner als 20.\n",
    "* Y ist die Menge aller ungeraden natürlichen Zahlen kleiner als 20.\n",
    "\n",
    "- $X =  \\{2,3,5,7,11,13,17,19\\}$\n",
    "- $Y =  \\{1,3,5,7,9,11,13,15,17,19\\}$\n",
    "\n",
    "In Python kannst du diese Mengen in der korrekten mathematischen **aufzählenden Schreibweise** initialisieren und mit der print Funktion ausgeben:"
   ]
  },
  {
   "cell_type": "code",
   "execution_count": 1010,
   "id": "061f7f4a",
   "metadata": {},
   "outputs": [
    {
     "name": "stdout",
     "output_type": "stream",
     "text": [
      "X =  {2, 3, 5, 7, 11, 13, 17, 19}\n",
      "Y =  {1, 3, 5, 7, 9, 11, 13, 15, 17, 19}\n"
     ]
    }
   ],
   "source": [
    "X = {2,3,5,7,11,13,17,19}\n",
    "Y = {1,3,5,7,9,11,13,15,17,19}\n",
    "\n",
    "print('X = ', X)\n",
    "print('Y = ', Y)\n"
   ]
  },
  {
   "cell_type": "markdown",
   "id": "1b8876c3",
   "metadata": {},
   "source": [
    "Wir können die Mengen X und Y auch beschreibend (**Prädikaten-Schreibweise**) definieren: \n",
    "\n",
    "- $X =  \\{ n \\in \\mathbb{N} \\mid n \\text{ ist Primzahl} \\land n < 20 \\}$\n",
    "- $Y =  \\{ n \\in \\mathbb{N} \\mid n \\text{ ist ungerade} \\land n < 20 \\}$\n",
    "\n",
    "Dabei bedeuted $n \\in \\mathbb{N}$, dass n ein *Element* der Natürlichen Zahlen ist, $\\mid$  steht für *mit* und das Zeichen $\\land$ steht für eine logische *and* Verknüpfung. Weitere logische Operatoren sind $\\lor$ für *or* und $\\lnot$ für *not*.\n",
    "\n"
   ]
  },
  {
   "cell_type": "markdown",
   "id": "5afdd566",
   "metadata": {},
   "source": [
    "#### ***Aufgabe 1.1***\n",
    "\n",
    "Beantworte für folgende Aussagen ob $x \\in X$ ***True*** oder ***False*** ist.\n",
    "- (a) $x = 789111$, $X =  \\{ n \\in \\mathbb{N} \\mid n \\text{ ist ein Vielfaches von 3}\\}$\n",
    "- (b) $x = 273$, $X =  \\{ n \\in \\mathbb{N} \\mid n \\text{ ist eine Primzahl}\\}$"
   ]
  },
  {
   "cell_type": "markdown",
   "id": "764e9e21",
   "metadata": {},
   "source": [
    "#### ***Lösung 1.2***\n",
    "- (a) ***True***\n",
    "- (b) ***False***\n"
   ]
  },
  {
   "cell_type": "markdown",
   "id": "45c6d499",
   "metadata": {},
   "source": [
    "#### ***Aufgabe 1.2***\n",
    "\n",
    "***Einführung: Wie sind Funktionen in Python aufgebaut?***\n",
    "\n",
    "In Python erstellt man Funktionen mit dem Schlüsselwort `def`. Eine Funktion kann **Eingabewerte (Parameter)** erhalten und **etwas zurückgeben**. Die Rückgabe erfolgt mit `return`.\n",
    "\n",
    "Hier ist ein Beispiel einer einfachen Funktion:\n",
    "\n",
    "```python\n",
    "def quadrat(x: int) -> int:\n",
    "    return x * x\n",
    "```\n",
    "\n",
    "- `x: int` bedeutet, dass der Parameter `x` vom Typ **Integer** ist.\n",
    "- `-> int` bedeutet, dass die Funktion einen **Integer-Wert zurückgibt**.\n",
    "- Die Funktion berechnet das Quadrat von `x`.\n",
    "\n",
    "***Einführung: `if`-Bedingung und `%`-Operator***\n",
    "\n",
    "Mit `if` kannst du überprüfen, ob eine Bedingung erfüllt ist:\n",
    "\n",
    "```python\n",
    "if x > 5:\n",
    "    print(\"x ist groesser als 5\")\n",
    "```\n",
    "\n",
    "Mit `%` (Modulo) prüfst du, ob eine Zahl durch eine andere **ohne Rest** teilbar ist:\n",
    "\n",
    "```python\n",
    "if x % t == 0:\n",
    "    print(\"x ist ein Vielfaches von t\")\n",
    "```\n",
    "\n",
    "Wenn `x % t == 0` ist, dann ist `x` ein Vielfaches von `t`.\n",
    "\n",
    "\n",
    "***Aufgabenstellung***\n",
    "\n",
    "Schreibe eine Funktion `is_multiple`, die zwei ganze Zahlen (`x` und `t`) als Eingabe erhält und einen Wahrheitswert (`True` oder `False`) zurückgibt.  \n",
    "Die Funktion soll `True` zurückgeben, **wenn `x` ein Vielfaches von `t` ist**, sonst `False`.\n",
    "\n",
    "***Beispiel***\n",
    "\n",
    "```python\n",
    "is_multiple(10, 5)   # True\n",
    "is_multiple(7, 3)    # False\n",
    "is_multiple(21, 7)   # True\n",
    "```"
   ]
  },
  {
   "cell_type": "code",
   "execution_count": 1011,
   "id": "8381b5e1",
   "metadata": {},
   "outputs": [
    {
     "name": "stdout",
     "output_type": "stream",
     "text": [
      "False\n",
      "False\n",
      "True\n",
      "True\n"
     ]
    }
   ],
   "source": [
    "def is_multiple(x: int, t: int) -> bool:\n",
    "    \"\"\"\n",
    "    Gibt True zurueck, wenn x ein Vielfaches von t ist, sonst False.\n",
    "\n",
    "    Parameter:\n",
    "    -----------\n",
    "    x : int\n",
    "        Die Zahl, die auf Vielfachheit geprueft werden soll.\n",
    "    t : int\n",
    "        Der Teiler bzw. die Basis des Vielfachen.\n",
    "\n",
    "    Rueckgabewert:\n",
    "    --------------\n",
    "    bool\n",
    "        True, wenn x ein Vielfaches von t ist, sonst False.\n",
    "    \"\"\"\n",
    "    # Deine Loesung hier\n",
    "    return (x % t) == 0\n",
    "    \n",
    "print(is_multiple(10,3))\n",
    "print(is_multiple(7,3))\n",
    "print(is_multiple(21,7))\n",
    "print(is_multiple(789111,3))"
   ]
  },
  {
   "cell_type": "markdown",
   "id": "c8fca6fe",
   "metadata": {},
   "source": [
    "### 1.2 Überblick der wichtigsten Mathematischen Mengen\n",
    "Wir werden folgende Mengen in Zukunft verwenden:\n",
    "\n",
    "\n",
    "- $\\mathbb{N}$ — Menge der **natürlichen Zahlen**  \n",
    "  $\\mathbb{N} = \\{0, 1, 2, 3, \\dots\\}$  \n",
    "  oder ohne Null: $\\mathbb{N}^+ = \\{1, 2, 3, \\dots\\}$\n",
    "\n",
    "- $\\mathbb{Z}$ — Menge der **ganzen Zahlen**  \n",
    "  $\\mathbb{Z} = \\{\\dots, -2, -1, 0, 1, 2, \\dots\\}$\n",
    "\n",
    "- $\\mathbb{Q}$ — Menge der **rationalen Zahlen**  \n",
    "  $\\mathbb{Q} = \\left\\{ \\frac{a}{b} \\,\\middle|\\, a, b \\in \\mathbb{Z},\\ b \\ne 0 \\right\\}$\n",
    "\n",
    "- $\\mathbb{R}$ — Menge der **reellen Zahlen**  \n",
    "  $\\mathbb{R}$ enthält alle rationalen und irrationalen Zahlen\n",
    "\n",
    "- $\\mathbb{P}$ — Menge der **Primzahlen**  \n",
    "  $\\mathbb{P} = \\{2, 3, 5, 7, 11, 13, 17, \\dots\\}$\n",
    "\n",
    "- $\\emptyset$ oder $\\varnothing$ — die **leere Menge**  \n",
    "  $\\emptyset = \\{\\}$\n",
    "\n",
    "Zusätzlich sind Intervalle auf $\\mathbb{R}$ wichtig:\n",
    "\n",
    "- **Offenes Intervall:** $(a, b)$  \n",
    "  Alle reellen Zahlen zwischen $a$ und $b$, **ohne** die Randpunkte  \n",
    "  $(a, b) = \\{ x \\in \\mathbb{R} \\mid a < x < b \\}$\n",
    "\n",
    "- **Geschlossenes Intervall:** $[a, b]$  \n",
    "  Alle reellen Zahlen zwischen $a$ und $b$, **inklusive** der Randpunkte  \n",
    "  $[a, b] = \\{ x \\in \\mathbb{R} \\mid a \\leq x \\leq b \\}$\n",
    "\n",
    "- **Halboffenes/-geschlossenes Intervall:**  \n",
    "  - $[a, b)$ bedeutet: $a \\leq x < b$  \n",
    "  - $(a, b]$ bedeutet: $a < x \\leq b$"
   ]
  },
  {
   "cell_type": "markdown",
   "id": "13ef8f3b",
   "metadata": {},
   "source": [
    "### 1.3 Eigenschaften von Mengen und Mengenoperationen in Python\n",
    ">**Definition 1.1**:\n",
    "> \n",
    ">Eine **Menge** ist eine wohlbestimmte Zusammenfassung von unterscheidbaren Objekten zu einem Ganzen.  \n",
    "Diese Objekte nennt man die **Elemente** der Menge.\n",
    "\n",
    "Formal schreibt man:\n",
    "* $x \\in A\\quad \\text{bedeutet: } x \\text{ ist Element der Menge } A$\n",
    "* $x \\notin A \\quad \\text{bedeutet: } x \\text{ ist kein Element von } A$\n",
    "\n",
    "Die wichtigsten Eigenschaften von Mengen sind:\n",
    "\n",
    "* **Ungeordnet:** Die Reihenfolge der Elemente spielt keine Rolle. $\\{1, 2\\} = \\{2, 1\\}$\n",
    "\n",
    "* **Keine Duplikate:** Jedes Element kommt höchstens einmal vor.  $\\{1, 1, 2\\} = \\{1, 2\\}$\n",
    "\n",
    "* **Wohlbestimmt:** Zu jedem Objekt lässt sich entscheiden, ob es zur Menge gehört oder nicht.\n",
    "\n",
    "Die wichtigsten Symbole im Zusammenhang mit Mengen sind:\n",
    "\n",
    "| Symbol         | Bedeutung                     |\n",
    "|----------------|-------------------------------|\n",
    "| $\\in$      | „ist Element von“             |\n",
    "| $\\notin$   | „ist kein Element von“        |\n",
    "| $\\subseteq$| Teilmenge                     |\n",
    "| $\\cup$    | Vereinigung                   |\n",
    "| $\\cap$     | Durchschnitt                  |\n",
    "| $\\setminus$| Mengendifferenz               |\n",
    "| $\\emptyset$| leere Menge                   |\n",
    "\n",
    "Der Begriff der **Teilmenge** wird weiter unten erläutert.\n",
    "\n",
    "**Beispiel**\n",
    "\n",
    "Nun lernst du die grundlegenden Mengenoperationen in Python anhand von einfachen Beispielen kennen.\n",
    "\n",
    "Python stellt mit dem Datentyp `set` eine eingebaute Möglichkeit zur Arbeit mit Mengen bereit."
   ]
  },
  {
   "cell_type": "code",
   "execution_count": 1012,
   "id": "f8d69963",
   "metadata": {},
   "outputs": [
    {
     "name": "stdout",
     "output_type": "stream",
     "text": [
      "Menge A: {1, 2, 3, 4}\n",
      "Menge B: {3, 4, 5, 6}\n"
     ]
    }
   ],
   "source": [
    "# Zwei Beispielmengen\n",
    "A = {1, 2, 3, 4}\n",
    "B = {3, 4, 5, 6}\n",
    "\n",
    "print(\"Menge A:\", A)\n",
    "print(\"Menge B:\", B)"
   ]
  },
  {
   "cell_type": "code",
   "execution_count": 1013,
   "id": "e91cc2f2",
   "metadata": {},
   "outputs": [
    {
     "name": "stdout",
     "output_type": "stream",
     "text": [
      "A ∪ B: {1, 2, 3, 4, 5, 6}\n"
     ]
    }
   ],
   "source": [
    "# Vereinigung: alle Elemente aus A oder B\n",
    "print(\"A ∪ B:\", A | B)  # oder A.union(B)"
   ]
  },
  {
   "cell_type": "code",
   "execution_count": 1014,
   "id": "9f1aca8b",
   "metadata": {},
   "outputs": [
    {
     "name": "stdout",
     "output_type": "stream",
     "text": [
      "A ∩ B: {3, 4}\n"
     ]
    }
   ],
   "source": [
    "# Durchschnitt: alle Elemente, die in beiden Mengen enthalten sind\n",
    "print(\"A ∩ B:\", A & B)  # oder A.intersection(B)"
   ]
  },
  {
   "cell_type": "code",
   "execution_count": 1015,
   "id": "e220628c",
   "metadata": {},
   "outputs": [
    {
     "name": "stdout",
     "output_type": "stream",
     "text": [
      "A - B: {1, 2}\n",
      "B - A: {5, 6}\n"
     ]
    }
   ],
   "source": [
    "# Differenz: Elemente, die in A, aber nicht in B sind\n",
    "print(\"A - B:\", A - B)\n",
    "print(\"B - A:\", B - A)"
   ]
  },
  {
   "cell_type": "code",
   "execution_count": 1016,
   "id": "274daa2a",
   "metadata": {},
   "outputs": [
    {
     "name": "stdout",
     "output_type": "stream",
     "text": [
      "A Δ B: {1, 2, 5, 6}\n"
     ]
    }
   ],
   "source": [
    "# Symmetrische Differenz: Elemente, die in A oder B, aber nicht in beiden sind\n",
    "print(\"A Δ B:\", A ^ B)  # oder A.symmetric_difference(B)\n"
   ]
  },
  {
   "cell_type": "code",
   "execution_count": 1017,
   "id": "00ec3e7a",
   "metadata": {},
   "outputs": [
    {
     "name": "stdout",
     "output_type": "stream",
     "text": [
      "C: {1, 2}\n",
      "C ist Teilmenge von A: True\n",
      "A ist Obermenge von C: True\n"
     ]
    }
   ],
   "source": [
    "# Teilmengenprüfung\n",
    "C = {1, 2}\n",
    "print(\"C:\", C)\n",
    "print(\"C ist Teilmenge von A:\", C.issubset(A))\n",
    "print(\"A ist Obermenge von C:\", A.issuperset(C))"
   ]
  },
  {
   "cell_type": "code",
   "execution_count": 1018,
   "id": "11714450",
   "metadata": {},
   "outputs": [
    {
     "name": "stdout",
     "output_type": "stream",
     "text": [
      "Leere Menge: set()\n",
      "Ist leer: True\n"
     ]
    }
   ],
   "source": [
    "# Erzeugen einer leeren Menge (nicht mit {}!)\n",
    "leere_menge = set()\n",
    "print(\"Leere Menge:\", leere_menge)\n",
    "print(\"Ist leer:\", len(leere_menge) == 0)"
   ]
  },
  {
   "cell_type": "markdown",
   "id": "7840f6bd",
   "metadata": {},
   "source": [
    "### 1.3 Teilmengen\n",
    ">**Definition 1.2**:\n",
    "> \n",
    ">Eine Menge $A$ ist eine ***Teilmenge*** von $B$, geschrieben als $A \\subseteq B$, falls jedes Element von A auch Element von B ist.\n",
    "\n",
    "In vielen ***Mathematischen Theoremen*** muss bewiesen werden, dass zwei Mengen - sagen wir $C$ und $D$ - gleich sind. In diesem Fall müssen wir zeigen, dass jedes Element von $C$ auch Element von $D$ ist, aber auch gleichzeitig jedes Element von $D$ Element von $C$ ist. Die Aussage $C = D$ ist somit gleichwertig mit der Aussage $C \\subseteq D \\land D \\subseteq C$.\n",
    "\n",
    "***Beispiel:***\n",
    "\n",
    "Zeige, dass $C = D$ gilt wo\n",
    "- $C =  \\{ n \\in \\mathbb{N} \\mid n \\text{ ist ein Vielfaches von 14} \\}$\n",
    "- $D =  \\{ n \\in \\mathbb{N} \\mid n \\text{ ist ein Vielfaches von 2 und 7} \\}$\n",
    "\n",
    "***Beweis***\n",
    "\n",
    "* Zu beweisen: $C \\subseteq D$\n",
    "    - Gegeben sei $c \\in C$, wir haben $c = 14m$ für eine Zahl $m$. Wir können diese Gleichung nun umschreiben zu $c = 2 \\cdot (7m)$. Auch können wir schreiben, dass $c = 7 \\cdot (2m)$. Somit ist jedes Element von $C$ auch Element von $D$.\n",
    "* Zu beweisen: $D \\subseteq C$: \n",
    "    - Gegeben sei $d \\in D$, wir haben $d = 2r$ und $d = 7s$ für die Zahlen $r$ und $s$. Es gilt $2r = 7s$. Somit folgt, dass $s$ eine gerade Zahl ist. Wir schreiben $s = 2t$ und bekommen $d = 7s = 14t$. Somit ist jedes Element von $D$ auch Element von $C$.\n",
    "\n",
    "Aus $C \\subseteq D \\land D \\subseteq C$ folgt $C = D$. $\\square$"
   ]
  },
  {
   "cell_type": "markdown",
   "id": "387df3aa",
   "metadata": {},
   "source": [
    "#### ***Aufgabe 1.3***\n",
    "Es existieren 8 unterschiedliche Teilmengen von $\\{x,y,z\\}$. Liste diese 8 Mengen auf."
   ]
  },
  {
   "cell_type": "markdown",
   "id": "999385bf",
   "metadata": {},
   "source": [
    "#### ***Lösung 1.3***\n",
    "$\\{\\},\\{x\\},\\{y\\},\\{z\\},\\{x,y\\},\\{x,z\\},\\{y,z\\},\\{x,y,z\\}$"
   ]
  },
  {
   "cell_type": "markdown",
   "id": "aa2edfde",
   "metadata": {},
   "source": [
    "### 1.4 Permutationen\n",
    ">**Definition 1.3**: \n",
    ">\n",
    ">Sei $S = \\{a_1,...,a_n\\}$ eine Menge von n Objekten mit $n \\in \\mathbb{N}^+$. Eine **Permutation von n Objekten** ist ein geordnetes Arrangement der Objekte von $S$.\n",
    "\n",
    "***Beispiel***\n",
    "\n",
    "Für $S = \\{a_1,a_3,a_3\\}$ existieren die folgenden sechs Permutationen: $(a_1,a_2,a_3),(a_1,a_3,a_2),(a_2,a_1,a_3),(a_2,a_3,a_1),(a_3,a_1,a_2),(a_3,a_2,a_1)$\n",
    "\n",
    ">**Lemma 1.1**:\n",
    ">\n",
    ">Sei $n \\in \\mathbb{N^+}$. Die Anzahl $n!$ unterschiedlicher Permutationen ist $n! = n \\cdot (n-1)\\cdot ... \\cdot 2 \\cdot 1 = \\prod_{i=1}^{n} i$\n",
    "\n",
    "\n",
    "***Beweis***:\n",
    "\n",
    "Beim ersten Objekt der Permutation kann man aus n verschiedenen Objekten auswählen, beim nächsten aus (n-1) Objekten, da noch (n-1) Objekte übrig sind, usw. $\\square$\n"
   ]
  },
  {
   "cell_type": "code",
   "execution_count": 1019,
   "id": "00e02bd5",
   "metadata": {},
   "outputs": [
    {
     "data": {
      "text/plain": [
       "120"
      ]
     },
     "execution_count": 1019,
     "metadata": {},
     "output_type": "execute_result"
    }
   ],
   "source": [
    "# Du kannst n! mit dem folgenden Befehl ausführen\n",
    "import math\n",
    "math.factorial(5)"
   ]
  },
  {
   "cell_type": "markdown",
   "id": "bd10fecd",
   "metadata": {},
   "source": [
    "#### ***Aufgabe 1.4***\n",
    "\n",
    "**Einführung: for-Schleifen in Python**\n",
    "\n",
    "Mit einer `for`-Schleife kannst du in Python eine Anweisung **mehrmals wiederholen** – z. B., um alle Zahlen von 1 bis n durchzugehen.\n",
    "\n",
    "```python\n",
    "for i in range(1, 6):\n",
    "    print(i)\n",
    "```\n",
    "\n",
    "**Ausgabe:**\n",
    "```\n",
    "1\n",
    "2\n",
    "3\n",
    "4\n",
    "5\n",
    "```\n",
    "\n",
    "* `range(1, 6)` erzeugt die Zahlen von 1 bis **5** (die 6 ist nicht mehr dabei).\n",
    "* Die Schleife fuehrt `print(i)` einmal pro Zahl aus.\n",
    "\n",
    "\n",
    "Schreibe eine Funktion `fakultaet(n)`, die mit einer **`for`-Schleife** die Fakultaet von `n` berechnet.Verwende folgende Vorlage:\n"
   ]
  },
  {
   "cell_type": "code",
   "execution_count": 1020,
   "id": "ac9e1c4d",
   "metadata": {},
   "outputs": [],
   "source": [
    "def fakultaet(n: int) -> int:\n",
    "    \"\"\"\n",
    "    Berechnet die Fakultaet einer nicht-negativen ganzen Zahl n.\n",
    "\n",
    "    Parameter:\n",
    "    -----------\n",
    "    n : int\n",
    "        Die Zahl, deren Fakultaet berechnet werden soll (n >= 0)\n",
    "\n",
    "    Rueckgabewert:\n",
    "    --------------\n",
    "    int\n",
    "        Das Ergebnis der Fakultaet n!, also das Produkt aller Zahlen von 1 bis n\n",
    "    \"\"\"\n",
    "    # Deine Loesung hier\n",
    "    pass"
   ]
  },
  {
   "cell_type": "code",
   "execution_count": 1021,
   "id": "fe05bced",
   "metadata": {},
   "outputs": [
    {
     "name": "stdout",
     "output_type": "stream",
     "text": [
      "None\n",
      "None\n",
      "None\n"
     ]
    }
   ],
   "source": [
    "# Teste deine Funktion mit folgenden Beispielen:\n",
    "print(fakultaet(3))  # Erwartet: 6\n",
    "print(fakultaet(5))  # Erwartet: 120\n",
    "print(fakultaet(0))  # Erwartet: 1"
   ]
  },
  {
   "cell_type": "markdown",
   "id": "b0d4f5f7",
   "metadata": {},
   "source": [
    "#### ***Lösung 1.4***"
   ]
  },
  {
   "cell_type": "code",
   "execution_count": 1022,
   "id": "cf9d8906",
   "metadata": {},
   "outputs": [],
   "source": [
    "def fakultaet(n: int) -> int:\n",
    "    \"\"\"\n",
    "    Berechnet die Fakultaet einer nicht-negativen ganzen Zahl n.\n",
    "\n",
    "    Parameter:\n",
    "    -----------\n",
    "    n : int\n",
    "        Die Zahl, deren Fakultaet berechnet werden soll (n >= 0)\n",
    "\n",
    "    Rueckgabewert:\n",
    "    --------------\n",
    "    int\n",
    "        Das Ergebnis der Fakultaet n!, also das Produkt aller Zahlen von 1 bis n\n",
    "    \"\"\"\n",
    "    # Deine Loesung hier\n",
    "    result = 1\n",
    "    for i in range(2, n + 1):\n",
    "        result *= i\n",
    "    return result\n"
   ]
  },
  {
   "cell_type": "code",
   "execution_count": 1023,
   "id": "f40d28b6",
   "metadata": {},
   "outputs": [
    {
     "name": "stdout",
     "output_type": "stream",
     "text": [
      "6\n",
      "120\n",
      "1\n"
     ]
    }
   ],
   "source": [
    "# Teste deine Funktion mit folgenden Beispielen:\n",
    "print(fakultaet(3))  # Erwartet: 6\n",
    "print(fakultaet(5))  # Erwartet: 120\n",
    "print(fakultaet(0))  # Erwartet: 1"
   ]
  },
  {
   "cell_type": "markdown",
   "id": "288d537c",
   "metadata": {},
   "source": [
    "### 1.5 Der Binomische Lehrsatz\n",
    "\n",
    ">**Definition 1.4**:\n",
    ">\n",
    ">Seien $n \\text{,}k \\in \\mathbb{N}$ mit $k \\leq n$. Eine **Kombination von k Objekten aus n Objekten** ist eine Selektion von k Objekten ohne Berücksichtigung der Reihenfolge.\n",
    "\n",
    "**Beispiel**\n",
    "\n",
    "Eine Kombination von vier Objekten aus $\\{a_1,a_2,a_3,a_4,a_5\\}$ ist eine der folgenden Mengen:\n",
    "\n",
    "$\\{a_1,a_2,a_3,a_4\\},\\{a_1,a_2,a_3,a_5\\},\\{a_1,a_2,a_4,a_5\\},\\{a_1,a_3,a_4,a_5\\},\\{a_2,a_3,a_4,a_5\\}$"
   ]
  },
  {
   "cell_type": "markdown",
   "id": "aea6ef6f",
   "metadata": {},
   "source": [
    ">**Lemma 1.2**:\n",
    ">\n",
    ">Sei $n,k \\in \\mathbb{N^+}$ mit $k \\leq n$. Die Anzahl $\\binom{n}{k}$ der Kombinationen von k Objekten aus n Objekten ist:\n",
    ">\n",
    ">$$\n",
    ">\\binom{n}{k} = \\frac{n \\cdot (n-1) \\cdot (n-2) \\cdot ... \\cdot(n-k+1)}{k!}\n",
    ">$$\n",
    ">\n",
    "$\\binom{n}{k}$ wird auch als **Binomialkoeffizient** bezeichnet.\n",
    "\n",
    "**Beweis**\n",
    "\n",
    "Ähnlich wie in Lemma 1.1 können wir argumentieren, dass wir zuerst n Möglichkeiten zur Auswahl eines Elemntes haben, dann (n-1) usw. bis wir (n-k+1) zur Auswahl haben. Da dieses Verfahren die Reihenfolge berücksichtigt und wir k Elemente auswählen, müssen wir noch durch k! teilen. Somit erhalten wir\n",
    "$$\n",
    "\\frac{n \\cdot (n-1) \\cdot (n-2) \\cdot ... \\cdot(n-k+1)}{k!}\n",
    "$$\n",
    " \n",
    "$\\square$\n",
    "\n",
    "Beachte:\n",
    "$$\n",
    "\\binom{n}{0} = \\binom{n}{n} = 1\n",
    "$$\n",
    "\n",
    "Du kannst in Python die Funktion `math.comb` brauchen, um den Binomialkoeffizienten auszurechnen."
   ]
  },
  {
   "cell_type": "code",
   "execution_count": 1024,
   "id": "0b990cda",
   "metadata": {},
   "outputs": [
    {
     "data": {
      "text/plain": [
       "10"
      ]
     },
     "execution_count": 1024,
     "metadata": {},
     "output_type": "execute_result"
    }
   ],
   "source": [
    "# Berechnung Binomialkoeffizient\n",
    "math.comb(5,2) # Ergebnis 10"
   ]
  },
  {
   "cell_type": "markdown",
   "id": "b366f111",
   "metadata": {},
   "source": [
    ">**Korollar 1.1**\n",
    ">\n",
    ">Für alle $n,k \\in \\mathbb{N^+}$ mit $k \\leq n$:\n",
    ">$$\n",
    ">\\binom{n}{k} = \\binom{n}{n-k}\n",
    ">$$\n",
    "\n",
    "**Beweis**\n",
    "\n",
    "Für jede Kombination aus k Objekten existiert genau eine eindeutige Kombination mit den restlichen Objekten. $\\square$"
   ]
  },
  {
   "cell_type": "markdown",
   "id": "0fecfe90",
   "metadata": {},
   "source": [
    "#### ***Aufgabe 1.5***\n",
    "Implementiere die Python Funktion `comb_iterativ`, für die Berechnung des Binomialkoeffizienten. Verwende folgende Vorlage:"
   ]
  },
  {
   "cell_type": "code",
   "execution_count": 1025,
   "id": "fa9b2403",
   "metadata": {},
   "outputs": [],
   "source": [
    "# Implementierun des Binomialkoeffizienten iterativ\n",
    "\n",
    "def comb_iterativ(n: int, k: int) -> int:\n",
    "    \"\"\"\n",
    "    Berechnet den Binomialkoeffizienten C(n, k) = n über k\n",
    "    mithilfe einer iterativen Methode ohne Rekursion.\n",
    "\n",
    "    Parameter:\n",
    "    -----------\n",
    "    n : int\n",
    "        Die Gesamtanzahl der Elemente (n ≥ 0)\n",
    "    k : int\n",
    "        Die Anzahl der auszuwählenden Elemente (0 ≤ k ≤ n)\n",
    "\n",
    "    Rueckgabewert:\n",
    "    --------------\n",
    "    int\n",
    "        Der Binomialkoeffizient, also die Anzahl der Kombinationen\n",
    "        von k Objekten aus n ohne Beachtung der Reihenfolge.\n",
    "    \"\"\"\n",
    "    if k < 0 or k > n:\n",
    "        return 0  # Außerhalb des gültigen Bereichs: 0 Kombinationen\n",
    "    \n",
    "    # Hier deine Lösung\n",
    "    pass"
   ]
  },
  {
   "cell_type": "markdown",
   "id": "eee540e4",
   "metadata": {},
   "source": [
    "#### ***Lösung 1.5***"
   ]
  },
  {
   "cell_type": "code",
   "execution_count": 1026,
   "id": "bb02b8aa",
   "metadata": {},
   "outputs": [],
   "source": [
    "# Implementierun des Binomialkoeffizienten iterativ\n",
    "\n",
    "def comb_iterativ(n: int, k: int) -> int:\n",
    "    \"\"\"\n",
    "    Berechnet den Binomialkoeffizienten C(n, k) = n über k\n",
    "    mithilfe einer iterativen Methode ohne Rekursion.\n",
    "\n",
    "    Parameter:\n",
    "    -----------\n",
    "    n : int\n",
    "        Die Gesamtanzahl der Elemente (n ≥ 0)\n",
    "    k : int\n",
    "        Die Anzahl der auszuwählenden Elemente (0 ≤ k ≤ n)\n",
    "\n",
    "    Rueckgabewert:\n",
    "    --------------\n",
    "    int\n",
    "        Der Binomialkoeffizient, also die Anzahl der Kombinationen\n",
    "        von k Objekten aus n ohne Beachtung der Reihenfolge.\n",
    "    \"\"\"\n",
    "    if k < 0 or k > n:\n",
    "        return 0  # Außerhalb des gültigen Bereichs: 0 Kombinationen\n",
    "\n",
    "    if k == 0 or k == n:\n",
    "        return 1  # Randfälle: nur eine Möglichkeit\n",
    "\n",
    "    # Nutze Symmetrie: C(n, k) == C(n, n-k), um Schleifenlänge zu verkürzen\n",
    "    k = min(k, n - k)\n",
    "\n",
    "    result = 1\n",
    "    for i in range(1, k + 1):\n",
    "        # Multipliziere result mit (n - (i - 1)) = n - i + 1\n",
    "        result *= n - (i - 1)\n",
    "\n",
    "        # Teile durch i – entspricht dem Nenner der Formel\n",
    "        result //= i\n",
    "\n",
    "    return result"
   ]
  },
  {
   "cell_type": "markdown",
   "id": "2ff856a1",
   "metadata": {},
   "source": [
    ">**Lemma 1.3**\n",
    ">\n",
    ">Für alle $n,k \\in \\mathbb(N^+)$ mit $k \\leq n$:\n",
    ">$$\n",
    ">\\binom{n+1}{k} = \\binom{n}{k-1} + \\binom{n}{k}\n",
    ">$$\n",
    "\n",
    "**Beweis**"
   ]
  },
  {
   "cell_type": "markdown",
   "id": "b26fdafb",
   "metadata": {},
   "source": [
    "## 2. Alphabete, Wörter und Sprachen\n",
    "### 2.1 Alphabete\n",
    "Alle Daten sind repräsentiert als Zeichenketten von Symbolen.\n",
    "\n",
    ">Defintion: Jede nicht leere, endliche Menge wird als ***Alphabet*** bezeichnet. Jedes Element des Alphabets $\\Sigma$ nennt man ***Symbol*** von $\\Sigma$.\n",
    "\n",
    "Beispiele für Alphabete sind:\n",
    "- $\\Sigma_{bool} =  \\{0,1\\}$"
   ]
  }
 ],
 "metadata": {
  "kernelspec": {
   "display_name": ".venv",
   "language": "python",
   "name": "python3"
  },
  "language_info": {
   "codemirror_mode": {
    "name": "ipython",
    "version": 3
   },
   "file_extension": ".py",
   "mimetype": "text/x-python",
   "name": "python",
   "nbconvert_exporter": "python",
   "pygments_lexer": "ipython3",
   "version": "3.13.3"
  }
 },
 "nbformat": 4,
 "nbformat_minor": 5
}
