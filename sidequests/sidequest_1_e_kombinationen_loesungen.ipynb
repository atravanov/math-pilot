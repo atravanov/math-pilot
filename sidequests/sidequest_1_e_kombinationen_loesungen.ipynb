{
 "cells": [
  {
   "cell_type": "markdown",
   "id": "ff4d87ad",
   "metadata": {},
   "source": [
    "# Sidequest 1.5 – Kombinationen\n",
    "\n",
    "---\n",
    "\n",
    "## Lernziele\n",
    "\n",
    "- Du verstehst den Unterschied zwischen Permutationen und Kombinationen.\n",
    "- Du kennst die Formel zur Berechnung der Anzahl von Kombinationen.\n",
    "- Du kannst den Binomialkoeffizienten korrekt interpretieren und berechnen.\n",
    "- Du erkennst die Rolle des Binomialkoeffizienten im Pascalschen Dreieck.\n",
    "- Du kannst Kombinationen in Python mit Bibliotheken wie `itertools` oder durch eigene Funktionen berechnen.\n",
    "\n",
    "---\n",
    "\n",
    "## Ausgangslage\n",
    "\n",
    "Eine **Kombination** ist eine Auswahl von $k$ Objekten aus einer Menge von $n$ Objekten, **ohne Berücksichtigung der Reihenfolge**.\n",
    "\n",
    "Beispiel:  \n",
    "Wähle 2 von 3 Buchstaben aus $\\{A, B, C\\}$  \n",
    "Kombinationen: $\\{A, B\\}$, $\\{A, C\\}$, $\\{B, C\\}$  \n",
    "Im Gegensatz zur Permutation spielt **die Reihenfolge keine Rolle**.\n",
    "\n",
    "Die Anzahl der Kombinationen wird durch den **Binomialkoeffizienten** angegeben:\n",
    "\n",
    "$$\n",
    "\\binom{n}{k} = \\frac{n!}{k! (n - k)!}\n",
    "$$\n"
   ]
  },
  {
   "cell_type": "markdown",
   "id": "9f290993",
   "metadata": {},
   "source": [
    "## Aufgaben\n",
    "\n",
    "### Aufgabe 1: Was ist eine Kombination?\n",
    "\n",
    "Erkläre in einem Satz, was eine Kombination ist und wie sie sich von einer Permutation unterscheidet.\n"
   ]
  },
  {
   "cell_type": "markdown",
   "id": "561f72c5",
   "metadata": {},
   "source": [
    "### Lösung 1\n",
    "\n",
    "Eine Kombination ist eine Auswahl von Objekten ohne Beachtung der Reihenfolge, während bei einer Permutation die Reihenfolge wichtig ist.\n"
   ]
  },
  {
   "cell_type": "markdown",
   "id": "ecee321a",
   "metadata": {},
   "source": [
    "### Aufgabe 2: Kombinationen manuell bestimmen\n",
    "\n",
    "Gegeben ist die Menge $\\{A, B, C, D\\}$.  \n",
    "Wie viele Kombinationen aus **zwei** dieser vier Elemente gibt es?  \n",
    "Liste sie alle auf.\n"
   ]
  },
  {
   "cell_type": "markdown",
   "id": "a22e956e",
   "metadata": {},
   "source": [
    "### Lösung 2\n",
    "\n",
    "Anzahl:  \n",
    "$\\binom{4}{2} = 6$\n",
    "\n",
    "Kombinationen:  \n",
    "$\\{A, B\\}, \\{A, C\\}, \\{A, D\\}, \\{B, C\\}, \\{B, D\\}, \\{C, D\\}$\n"
   ]
  },
  {
   "cell_type": "markdown",
   "id": "c5fb38f3",
   "metadata": {},
   "source": [
    "### Aufgabe 3: Binomialkoeffizient berechnen\n",
    "\n",
    "Berechne $\\binom{5}{2}$ mit der Formel\n",
    "\n",
    "$$\n",
    "\\binom{n}{k} = \\frac{n!}{k!(n-k)!}\n",
    "$$\n",
    "\n",
    "Gib den Wert als Zahl an.\n"
   ]
  },
  {
   "cell_type": "markdown",
   "id": "d39af2f4",
   "metadata": {},
   "source": [
    "### Lösung 3\n",
    "\n",
    "$$\n",
    "\\binom{5}{2} = \\frac{5!}{2! \\cdot 3!} = \\frac{120}{2 \\cdot 6} = \\frac{120}{12} = 10\n",
    "$$\n",
    "\n",
    "oder schneller\n",
    "\n",
    "$$\n",
    "\\binom{5}{2} = \\frac{5 \\cdot 4}{2 \\cdot 1} = 10\n",
    "$$\n",
    "\n"
   ]
  },
  {
   "cell_type": "markdown",
   "id": "b58dd993",
   "metadata": {},
   "source": [
    "### Aufgabe 4: Eigene Funktion in Python\n",
    "\n",
    "Schreibe eine Funktion `binomial_coefficient(n, k)`, die den Binomialkoeffizienten mit Hilfe einer eigenen `factorial()`-Funktion berechnet.\n",
    "\n",
    "Berechne anschließend $\\binom{6}{3}$.\n"
   ]
  },
  {
   "cell_type": "code",
   "execution_count": 5,
   "id": "7fc46b7f",
   "metadata": {},
   "outputs": [
    {
     "name": "stdout",
     "output_type": "stream",
     "text": [
      "20\n"
     ]
    }
   ],
   "source": [
    "def factorial(n):\n",
    "    result = 1\n",
    "    for i in range(2, n + 1):\n",
    "        result *= i\n",
    "    return result\n",
    "\n",
    "def binomial_coefficient(n, k):\n",
    "    return factorial(n) // (factorial(k) * factorial(n - k))\n",
    "\n",
    "print(binomial_coefficient(6, 3))  # Ausgabe: 20\n"
   ]
  },
  {
   "cell_type": "markdown",
   "id": "7ecca219",
   "metadata": {},
   "source": [
    "### Aufgabe 5: Kombinationen in Python generieren\n",
    "\n",
    "Verwende `itertools.combinations`, um alle Kombinationen der Liste `[1, 2, 3, 4]` mit je 2 Elementen zu erzeugen.\n"
   ]
  },
  {
   "cell_type": "code",
   "execution_count": 6,
   "id": "0c7bfcd1",
   "metadata": {},
   "outputs": [
    {
     "name": "stdout",
     "output_type": "stream",
     "text": [
      "(1, 2)\n",
      "(1, 3)\n",
      "(1, 4)\n",
      "(2, 3)\n",
      "(2, 4)\n",
      "(3, 4)\n"
     ]
    }
   ],
   "source": [
    "import itertools\n",
    "\n",
    "combinations = itertools.combinations([1, 2, 3, 4], 2)\n",
    "for combo in combinations:\n",
    "    print(combo)\n"
   ]
  },
  {
   "cell_type": "markdown",
   "id": "c0157863",
   "metadata": {},
   "source": [
    "---\n",
    "\n",
    "## Theorie\n",
    "\n",
    "### Kombinationen (Definition)\n",
    "\n",
    "Eine Kombination ist eine Auswahl von $k$ Objekten aus $n$ Objekten ohne Beachtung der Reihenfolge.\n",
    "\n",
    "Die Anzahl solcher Kombinationen ist:\n",
    "\n",
    "$$\n",
    "\\binom{n}{k} = \\frac{n!}{k!(n-k)!}\n",
    "$$\n",
    "\n",
    "---\n",
    "\n",
    "### Beispiele\n",
    "\n",
    "| $n$ | $k$ | $\\binom{n}{k}$ | Bedeutung                             |\n",
    "|-----|-----|------------------|----------------------------------------|\n",
    "| 4   | 2   | 6                | 6 Kombinationen aus 4 Elementen zu 2   |\n",
    "| 5   | 0   | 1                | genau eine Kombination: die leere Menge |\n",
    "| 5   | 5   | 1                | nur eine Möglichkeit: alle wählen      |\n",
    "\n",
    "---\n",
    "\n",
    "### Zusammenhang mit dem Pascalschen Dreieck\n",
    "\n",
    "Der Wert von $\\binom{n}{k}$ entspricht dem $k$-ten Eintrag in der $n$-ten Zeile des Pascalschen Dreiecks.\n",
    "\n",
    "Beispiel Zeile $n = 4$:\n",
    "$$\n",
    "1 \\quad 4 \\quad 6 \\quad 4 \\quad 1\n",
    "$$\n",
    "\n",
    "---\n",
    "\n",
    "### Python-Tipp\n",
    "\n",
    "```python\n",
    "import itertools\n",
    "\n",
    "combs = itertools.combinations([1, 2, 3, 4], 2)\n",
    "for c in combs:\n",
    "    print(c)\n",
    "```\n",
    "\n",
    "Oder:\n",
    "\n",
    "```python\n",
    "from math import comb\n",
    "print(comb(5, 2))  # ergibt 10\n",
    "```\n"
   ]
  }
 ],
 "metadata": {
  "kernelspec": {
   "display_name": ".venv",
   "language": "python",
   "name": "python3"
  },
  "language_info": {
   "codemirror_mode": {
    "name": "ipython",
    "version": 3
   },
   "file_extension": ".py",
   "mimetype": "text/x-python",
   "name": "python",
   "nbconvert_exporter": "python",
   "pygments_lexer": "ipython3",
   "version": "3.13.3"
  }
 },
 "nbformat": 4,
 "nbformat_minor": 5
}
