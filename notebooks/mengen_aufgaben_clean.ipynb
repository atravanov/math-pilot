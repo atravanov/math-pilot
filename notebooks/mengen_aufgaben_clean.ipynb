{
 "cells": [
  {
   "cell_type": "markdown",
   "id": "59bb902a",
   "metadata": {},
   "source": [
    "# Aufgabenblatt – Mengen in Python\n",
    "\n",
    "## Einfuehrung\n",
    "\n",
    "In Python gibt es verschiedene grundlegende Datentypen, die dir beim Loesen dieser Aufgaben helfen:\n",
    "\n",
    "- **Liste (list)**: Eine geordnete Sammlung von Elementen:\n",
    "  ```python\n",
    "  meine_liste = [1, 2, 3, 4]\n",
    "  ```\n",
    "\n",
    "- **Menge (set)**: Eine ungeordnete Sammlung von einzigartigen Elementen (keine Duplikate!):\n",
    "  ```python\n",
    "  meine_menge = {1, 2, 3}\n",
    "  ```\n",
    "\n",
    "- **Funktion (def)**: Eine Funktion erlaubt es dir, Code logisch zu strukturieren und wiederzuverwenden:\n",
    "  ```python\n",
    "  def sag_hallo(name):\n",
    "      print(\"Hallo,\", name)\n",
    "  ```\n",
    "\n",
    "## Funktionen und Methoden für Listen und Mengen welche du benötigst\n",
    "\n",
    "\n",
    "| Funktion / Methode                    | Kurzbeschreibung                                                                 |\n",
    "|--------------------------------------|-----------------------------------------------------------------------------------|\n",
    "\n",
    "\n"
   ]
  },
  {
   "cell_type": "markdown",
   "id": "c2a54fb1",
   "metadata": {},
   "source": [
    "### Aufgabe 1: Gemeinsame Freunde finden\n",
    "Gegeben sind zwei Mengen mit den Namen der Freunde von Person A und B:\n",
    "```python\n",
    "freunde_a = {\"Anna\", \"Ben\", \"Clara\", \"Daniel\"}\n",
    "freunde_b = {\"Ben\", \"Daniel\", \"Eva\", \"Frank\"}\n",
    "```\n",
    "Schreibe eine Funktion `gemeinsame_freunde(a, b)`, die alle Freunde zurueckgibt, die beide Personen gemeinsam haben."
   ]
  },
  {
   "cell_type": "code",
   "execution_count": null,
   "id": "acaf6f6a",
   "metadata": {},
   "outputs": [],
   "source": [
    "# Deine Loesung hier\n",
    "def gemeinsame_freunde(a, b):\n",
    "    pass"
   ]
  },
  {
   "cell_type": "markdown",
   "id": "5cbddf67",
   "metadata": {},
   "source": [
    "### Aufgabe 2: Duplikate aus einer Liste entfernen\n",
    "Gegeben ist eine Liste mit Zahlen, in der manche Zahlen mehrfach vorkommen:\n",
    "```python\n",
    "zahlen = [1, 2, 2, 3, 4, 4, 5]\n",
    "```\n",
    "Schreibe eine Funktion `ohne_duplikate(liste)`, die Duplikate entfernt und eine Liste mit eindeutigen Werten zurueckgibt."
   ]
  },
  {
   "cell_type": "code",
   "execution_count": null,
   "id": "df3af109",
   "metadata": {},
   "outputs": [],
   "source": [
    "# Deine Loesung hier\n",
    "def ohne_duplikate(liste):\n",
    "    pass"
   ]
  },
  {
   "cell_type": "markdown",
   "id": "9531be2c",
   "metadata": {},
   "source": [
    "### Aufgabe 3: Teilmenge pruefen\n",
    "```python\n",
    "a = {1, 2}\n",
    "b = {1, 2, 3, 4}\n",
    "```\n",
    "Schreibe eine Funktion `ist_teilmenge(a, b)`, die ueberprueft, ob `a` eine Teilmenge von `b` ist."
   ]
  },
  {
   "cell_type": "code",
   "execution_count": null,
   "id": "bd60fd16",
   "metadata": {},
   "outputs": [],
   "source": [
    "# Deine Loesung hier\n",
    "def ist_teilmenge(a, b):\n",
    "    pass"
   ]
  },
  {
   "cell_type": "markdown",
   "id": "5cd9f050",
   "metadata": {},
   "source": [
    "### Aufgabe 4: Nur in einer Liste vorkommende Elemente\n",
    "```python\n",
    "liste_a = [1, 2, 3, 4, 5]\n",
    "liste_b = [4, 5, 6, 7]\n",
    "```\n",
    "Schreibe eine Funktion `nur_in_einer_liste(a, b)`, die Elemente zurueckgibt, die nur in einer der beiden Listen vorkommen."
   ]
  },
  {
   "cell_type": "code",
   "execution_count": null,
   "id": "e73af6eb",
   "metadata": {},
   "outputs": [],
   "source": [
    "# Deine Loesung hier\n",
    "def nur_in_einer_liste(a, b):\n",
    "    pass"
   ]
  },
  {
   "cell_type": "markdown",
   "id": "c9b160f6",
   "metadata": {},
   "source": [
    "### Aufgabe 5: Multimengen-Teilmenge pruefen\n",
    "```python\n",
    "a = [1, 2, 2, 3]\n",
    "b = [1, 2, 2, 2, 3, 4]\n",
    "```\n",
    "Schreibe eine Funktion `ist_multimengen_teilmenge(a, b)`, die prueft, ob `a` (inkl. Haeufigkeit) Teilmenge von `b` ist."
   ]
  },
  {
   "cell_type": "code",
   "execution_count": null,
   "id": "3da0629c",
   "metadata": {},
   "outputs": [],
   "source": [
    "# Deine Loesung hier\n",
    "from collections import Counter\n",
    "\n",
    "def ist_multimengen_teilmenge(a, b):\n",
    "    pass"
   ]
  }
 ],
 "metadata": {
  "language_info": {
   "name": "python"
  }
 },
 "nbformat": 4,
 "nbformat_minor": 5
}
