{
 "cells": [
  {
   "cell_type": "markdown",
   "id": "de415548",
   "metadata": {},
   "source": [
    "# Sidequest 1.2 – Überblick der wichtigsten mathematischen Mengen\n",
    "\n",
    "---\n",
    "\n",
    "## Lernziele\n",
    "\n",
    "- Du kennst die wichtigsten mathematischen Zahlenmengen wie $\\mathbb{N}$, $\\mathbb{Z}$, $\\mathbb{Q}$, $\\mathbb{R}$ und $\\mathbb{P}$.\n",
    "- Du kannst Zahlen den richtigen Mengen zuordnen.\n",
    "- Du verstehst, was eine leere Menge ist und wie man Teilmengen aufzählt.\n",
    "- Du kannst einfache Mengenoperationen wie Vereinigung, Schnitt und Differenz anwenden.\n",
    "\n",
    "---\n",
    "\n",
    "## Einführung\n",
    "\n",
    "In Kapitel 1.2 hast du verschiedene Zahlenmengen kennengelernt:\n",
    "\n",
    "- die natürlichen Zahlen $\\mathbb{N}$\n",
    "- die ganzen Zahlen $\\mathbb{Z}$\n",
    "- die rationalen Zahlen $\\mathbb{Q}$\n",
    "- die reellen Zahlen $\\mathbb{R}$\n",
    "- die Primzahlen $\\mathbb{P}$\n",
    "- und die leere Menge $\\emptyset$\n",
    "\n",
    "Außerdem hast du die Bedeutung von Teilmengen und Mengenoperationen wie $\\cup$, $\\cap$, $\\setminus$ und $\\subseteq$ kennengelernt.\n",
    "\n",
    "---\n",
    "\n",
    "## Wiederholung\n",
    "\n",
    "Beispielhafte Definitionen:\n",
    "\n",
    "- $\\mathbb{N} = \\{0, 1, 2, 3, \\dots\\}$\n",
    "- $\\mathbb{Z} = \\{\\dots, -2, -1, 0, 1, 2, \\dots\\}$\n",
    "- $\\mathbb{Q} = \\left\\{ \\frac{a}{b} \\mid a, b \\in \\mathbb{Z},\\ b \\ne 0 \\right\\}$\n",
    "- $\\mathbb{P} = \\{2, 3, 5, 7, 11, \\dots\\}$\n",
    "- $\\emptyset = \\{\\}$\n"
   ]
  },
  {
   "cell_type": "markdown",
   "id": "7cefdc5a",
   "metadata": {},
   "source": [
    "### Aufgabe 1: Zuordnen von Zahlen\n",
    "\n",
    "Ordne die folgenden Zahlen den passenden Mengen zu. Eine Zahl kann zu mehreren Mengen gehören.\n",
    "\n",
    "| Zahl           | Passende Mengen                         |\n",
    "|----------------|------------------------------------------|\n",
    "| $7$            |                                          |\n",
    "| $-3$           |                                          |\n",
    "| $\\frac{2}{5}$  |                                          |\n",
    "| $\\sqrt{2}$     |                                          |\n",
    "| $0$            |                                          |\n"
   ]
  },
  {
   "cell_type": "markdown",
   "id": "56750ee1",
   "metadata": {},
   "source": [
    "### Aufgabe 2: Teilmengen\n",
    "\n",
    "**a)** Gib alle Teilmengen der Menge $A = \\{a, b\\}$ an.  \n",
    "**b)** Wie viele Teilmengen hat eine Menge mit vier Elementen?\n"
   ]
  },
  {
   "cell_type": "markdown",
   "id": "4612cf04",
   "metadata": {},
   "source": [
    "### Aufgabe 3: Mengenoperationen\n",
    "\n",
    "Gegeben seien die Mengen\n",
    "\n",
    "$$\n",
    "A = \\{1, 2, 3, 4\\}, \\quad B = \\{3, 4, 5, 6\\}\n",
    "$$\n",
    "\n",
    "Berechne:\n",
    "\n",
    "- $A \\cup B$\n",
    "- $A \\cap B$\n",
    "- $A \\setminus B$\n",
    "- $B \\setminus A$\n",
    "- $A \\triangle B$\n"
   ]
  },
  {
   "cell_type": "markdown",
   "id": "532fc84a",
   "metadata": {},
   "source": [
    "### Aufgabe 4: Leere Menge\n",
    "\n",
    "Beantworte folgende Frage:  \n",
    "Ist $\\emptyset \\subseteq \\mathbb{N}$? Begründe deine Antwort.\n"
   ]
  },
  {
   "cell_type": "markdown",
   "id": "ccf18282",
   "metadata": {},
   "source": [
    "---\n",
    "\n",
    "Wenn du fertig bist, vergleiche deine Lösungen mit anderen und bespreche, warum bestimmte Elemente zu bestimmten Mengen gehören oder nicht.\n"
   ]
  }
 ],
 "metadata": {},
 "nbformat": 4,
 "nbformat_minor": 5
}
