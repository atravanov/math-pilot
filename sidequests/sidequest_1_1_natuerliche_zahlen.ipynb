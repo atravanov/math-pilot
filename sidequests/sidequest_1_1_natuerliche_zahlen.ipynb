{
 "cells": [
  {
   "cell_type": "markdown",
   "id": "94368a09",
   "metadata": {},
   "source": [
    "# Sidequest 1.1 – Die Menge der natürlichen Zahlen\n",
    "\n",
    "---\n",
    "\n",
    "## Lernziele\n",
    "\n",
    "- Du kannst Mengen in Python sowohl aufzählend als auch beschreibend definieren.\n",
    "- Du verstehst die Bedeutung der Symbole $\\in$, $\\mid$, $\\land$ und $\\mathbb{N}$.\n",
    "- Du kannst mathematische Mengen schriftlich und programmatisch ausdrücken.\n",
    "\n",
    "---\n",
    "\n",
    "## Einführung\n",
    "\n",
    "In Kapitel 1.1 hast du die Menge der natürlichen Zahlen kennengelernt. Du hast verschiedene Darstellungsformen für Mengen gesehen:\n",
    "\n",
    "- aufzählende Schreibweise\n",
    "- beschreibende Schreibweise (mit Bedingungen)\n",
    "- prädikatenlogische Notation\n",
    "\n",
    "Außerdem wurde besprochen, wie man Mengen in Python durch Set Comprehensions erzeugen kann. Dieses Sidequest dient der praktischen Anwendung dieser Konzepte.\n",
    "\n",
    "---\n",
    "\n",
    "## Wiederholung\n",
    "\n",
    "Die Menge der natürlichen Zahlen ist definiert als:\n",
    "\n",
    "$$\n",
    "\\mathbb{N} = \\{0, 1, 2, 3, \\dots\\}\n",
    "$$\n",
    "\n",
    "Je nach Kontext kann auch die Schreibweise ohne Null verwendet werden:\n",
    "\n",
    "$$\n",
    "\\mathbb{N}^+ = \\{1, 2, 3, \\dots\\}\n",
    "$$\n"
   ]
  },
  {
   "cell_type": "markdown",
   "id": "bd2e91d2",
   "metadata": {},
   "source": [
    "### Aufgabe 1: Aufzählende Darstellung\n",
    "\n",
    "Gib in Python die Menge **X** aller natürlichen Zahlen kleiner als 10 in aufzählender Schreibweise an. Verwende `print()` zur Ausgabe.\n"
   ]
  },
  {
   "cell_type": "code",
   "execution_count": 1,
   "id": "a515dd06",
   "metadata": {},
   "outputs": [
    {
     "name": "stdout",
     "output_type": "stream",
     "text": [
      "{0, 1, 2, 3, 4, 5, 6, 7, 8, 9}\n"
     ]
    }
   ],
   "source": [
    "# TODO: Ergänze die Menge X\n",
    "X = {0, 1, 2, 3, 4, 5, 6, 7, 8, 9}\n",
    "print(X)\n"
   ]
  },
  {
   "cell_type": "markdown",
   "id": "3b99cda3",
   "metadata": {},
   "source": [
    "### Aufgabe 2: Beschreibende Darstellung\n",
    "\n",
    "Definiere die Menge **Y** der ungeraden natürlichen Zahlen kleiner als 20 mithilfe eines Set Comprehension (beschreibende Form):\n"
   ]
  },
  {
   "cell_type": "code",
   "execution_count": 2,
   "id": "2f2c6341",
   "metadata": {},
   "outputs": [
    {
     "name": "stdout",
     "output_type": "stream",
     "text": [
      "{1, 3, 5, 7, 9, 11, 13, 15, 17, 19}\n"
     ]
    }
   ],
   "source": [
    "# TODO: Definiere die Menge Y mit einer Bedingung\n",
    "Y = {n for n in range(20) if n % 2 == 1}\n",
    "print(Y)\n"
   ]
  },
  {
   "cell_type": "markdown",
   "id": "61d690ff",
   "metadata": {},
   "source": [
    "### Aufgabe 3: Prädikaten-Logik und Sprache\n",
    "\n",
    "Formuliere die Mengen **X** und **Y** aus Aufgabe 1 und 2 in mathematischer Prädikaten-Schreibweise.\n",
    "\n",
    "Nutze folgende Vorlage:\n",
    "\n",
    "- $X = \\{ n \\in \\mathbb{N} \\mid \\text{...} \\}$\n",
    "- $Y = \\{ n \\in \\mathbb{N} \\mid \\text{...} \\}$\n"
   ]
  },
  {
   "cell_type": "markdown",
   "id": "5aea38d0",
   "metadata": {},
   "source": [
    "### Aufgabe 4: Herausforderung\n",
    "\n",
    "Erstelle die Menge **P** aller Primzahlen kleiner als 50. Verwende dazu eine eigene Funktion `ist_prim(n)`, um zu prüfen, ob eine Zahl eine Primzahl ist.\n"
   ]
  },
  {
   "cell_type": "code",
   "execution_count": 3,
   "id": "b77889ed",
   "metadata": {},
   "outputs": [
    {
     "name": "stdout",
     "output_type": "stream",
     "text": [
      "{2, 3, 5, 37, 7, 41, 11, 43, 13, 47, 17, 19, 23, 29, 31}\n"
     ]
    }
   ],
   "source": [
    "# TODO: Implementiere eine Funktion zur Primzahlprüfung\n",
    "def ist_prim(n):\n",
    "    if n < 2:\n",
    "        return False\n",
    "    for i in range(2, int(n**0.5) + 1):\n",
    "        if n % i == 0:\n",
    "            return False\n",
    "    return True\n",
    "\n",
    "P = {n for n in range(50) if ist_prim(n)}\n",
    "print(P)\n"
   ]
  },
  {
   "cell_type": "markdown",
   "id": "723e855a",
   "metadata": {},
   "source": [
    "---\n",
    "\n",
    "Wenn du fertig bist, vergleiche deine Lösungen mit anderen, diskutiere Unterschiede in der Formulierung und überlege, wie du das Wissen in einem Algorithmus einsetzen würdest.\n"
   ]
  }
 ],
 "metadata": {
  "kernelspec": {
   "display_name": ".venv",
   "language": "python",
   "name": "python3"
  },
  "language_info": {
   "codemirror_mode": {
    "name": "ipython",
    "version": 3
   },
   "file_extension": ".py",
   "mimetype": "text/x-python",
   "name": "python",
   "nbconvert_exporter": "python",
   "pygments_lexer": "ipython3",
   "version": "3.13.3"
  }
 },
 "nbformat": 4,
 "nbformat_minor": 5
}
