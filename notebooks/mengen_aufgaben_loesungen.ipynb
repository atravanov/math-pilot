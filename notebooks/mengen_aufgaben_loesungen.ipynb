{
 "cells": [
  {
   "cell_type": "markdown",
   "id": "e798955a",
   "metadata": {},
   "source": [
    "# Loesungsblatt – Mengen in Python\n",
    "\n",
    "Dieses Notebook enthaelt die Musterloesungen zu den Aufgaben rund um Mengen.\n"
   ]
  },
  {
   "cell_type": "markdown",
   "id": "3fd42ed1",
   "metadata": {},
   "source": [
    "### Aufgabe 1: Gemeinsame Freunde finden"
   ]
  },
  {
   "cell_type": "code",
   "execution_count": null,
   "id": "d534e1c5",
   "metadata": {},
   "outputs": [],
   "source": [
    "def gemeinsame_freunde(a, b):\n",
    "    return a & b\n",
    "\n",
    "# Beispiel\n",
    "freunde_a = {\"Anna\", \"Ben\", \"Clara\", \"Daniel\"}\n",
    "freunde_b = {\"Ben\", \"Daniel\", \"Eva\", \"Frank\"}\n",
    "print(gemeinsame_freunde(freunde_a, freunde_b))"
   ]
  },
  {
   "cell_type": "markdown",
   "id": "8070d186",
   "metadata": {},
   "source": [
    "### Aufgabe 2: Duplikate aus einer Liste entfernen"
   ]
  },
  {
   "cell_type": "code",
   "execution_count": null,
   "id": "5c961a14",
   "metadata": {},
   "outputs": [],
   "source": [
    "def ohne_duplikate(liste):\n",
    "    return list(set(liste))\n",
    "\n",
    "# Beispiel\n",
    "zahlen = [1, 2, 2, 3, 4, 4, 5]\n",
    "print(ohne_duplikate(zahlen))"
   ]
  },
  {
   "cell_type": "markdown",
   "id": "c5cc3f96",
   "metadata": {},
   "source": [
    "### Aufgabe 3: Teilmenge pruefen"
   ]
  },
  {
   "cell_type": "code",
   "execution_count": null,
   "id": "9b2760b0",
   "metadata": {},
   "outputs": [],
   "source": [
    "def ist_teilmenge(a, b):\n",
    "    return a.issubset(b)\n",
    "\n",
    "# Beispiel\n",
    "a = {1, 2}\n",
    "b = {1, 2, 3, 4}\n",
    "print(ist_teilmenge(a, b))"
   ]
  },
  {
   "cell_type": "markdown",
   "id": "11e4cbbf",
   "metadata": {},
   "source": [
    "### Aufgabe 4: Nur in einer Liste vorkommende Elemente"
   ]
  },
  {
   "cell_type": "code",
   "execution_count": null,
   "id": "a16dda04",
   "metadata": {},
   "outputs": [],
   "source": [
    "def nur_in_einer_liste(a, b):\n",
    "    return set(a) ^ set(b)\n",
    "\n",
    "# Beispiel\n",
    "liste_a = [1, 2, 3, 4, 5]\n",
    "liste_b = [4, 5, 6, 7]\n",
    "print(nur_in_einer_liste(liste_a, liste_b))"
   ]
  },
  {
   "cell_type": "markdown",
   "id": "0e965fe0",
   "metadata": {},
   "source": [
    "### Aufgabe 5: Multimengen-Teilmenge pruefen"
   ]
  },
  {
   "cell_type": "code",
   "execution_count": null,
   "id": "a409469d",
   "metadata": {},
   "outputs": [],
   "source": [
    "from collections import Counter\n",
    "\n",
    "def ist_multimengen_teilmenge(a, b):\n",
    "    count_a = Counter(a)\n",
    "    count_b = Counter(b)\n",
    "    return all(count_a[element] <= count_b[element] for element in count_a)\n",
    "\n",
    "# Beispiel\n",
    "a = [1, 2, 2, 3]\n",
    "b = [1, 2, 2, 2, 3, 4]\n",
    "print(ist_multimengen_teilmenge(a, b))"
   ]
  }
 ],
 "metadata": {},
 "nbformat": 4,
 "nbformat_minor": 5
}
