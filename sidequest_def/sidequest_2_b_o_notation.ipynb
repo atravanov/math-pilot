{
 "cells": [
  {
   "cell_type": "markdown",
   "id": "4ffcccb6",
   "metadata": {},
   "source": [
    "# Sidequest 2.2 – Einführung in die O-Notation\n",
    "\n",
    "---\n",
    "\n",
    "## Lernziele\n",
    "\n",
    "- Du verstehst die Idee der O-Notation als Maß für das asymptotische Verhalten von Funktionen.\n",
    "- Du kannst die O-Notation formell mit Hilfe von Quantoren mathematisch definieren.\n",
    "- Du erkennst typische Komplexitätsklassen wie konstant, linear, quadratisch, logarithmisch und exponentiell.\n",
    "- Du kannst einfache Funktionen in Python auf ihr asymptotisches Verhalten untersuchen.\n",
    "- Du verstehst den Unterschied zwischen genauer Laufzeit und asymptotischem Wachstum.\n",
    "\n",
    "---\n",
    "\n",
    "## Ausgangslage\n",
    "\n",
    "Die O-Notation wird verwendet, um das Wachstumsverhalten von Funktionen im Unendlichen zu beschreiben. Sie hilft uns abzuschätzen, wie schnell ein Algorithmus wächst, wenn die Eingabegröße größer wird.\n",
    "\n",
    "Typische Klassen sind:\n",
    "\n",
    "- $\\mathcal{O}(1)$ – konstant\n",
    "- $\\mathcal{O}(n)$ – linear\n",
    "- $\\mathcal{O}(n^2)$ – quadratisch\n",
    "- $\\mathcal{O}(\\log n)$ – logarithmisch\n",
    "- $\\mathcal{O}(2^n)$ – exponentiell\n"
   ]
  },
  {
   "cell_type": "markdown",
   "id": "87605646",
   "metadata": {},
   "source": [
    "## Aufgaben\n",
    "\n",
    "### Aufgabe 1: Intuition\n",
    "\n",
    "Was bedeutet es, dass $f(n)$ in $\\mathcal{O}(g(n))$ liegt? Formuliere eine intuitive Erklärung.\n"
   ]
  },
  {
   "cell_type": "markdown",
   "id": "1698beeb",
   "metadata": {},
   "source": [
    "### Aufgabe 2: Python und Wachstum\n",
    "\n",
    "Was ist die ungefähre Zeitkomplexität folgender Funktion? Begründe.\n",
    "\n",
    "```python\n",
    "def summiere(n):\n",
    "    total = 0\n",
    "    for i in range(n):\n",
    "        total += i\n",
    "    return total\n",
    "```\n"
   ]
  },
  {
   "cell_type": "markdown",
   "id": "db171f51",
   "metadata": {},
   "source": [
    "### Aufgabe 3: Doppelte Schleife\n",
    "\n",
    "Untersuche die Laufzeit:\n",
    "\n",
    "```python\n",
    "def doppelt(n):\n",
    "    for i in range(n):\n",
    "        for j in range(n):\n",
    "            print(i, j)\n",
    "```\n",
    "\n",
    "Wie viele Ausgaben werden erzeugt? Welche O-Klasse?\n"
   ]
  },
  {
   "cell_type": "markdown",
   "id": "250cf1fd",
   "metadata": {},
   "source": [
    "### Aufgabe 4: Logarithmus in Python\n",
    "\n",
    "Was ist die Komplexität der Funktion?\n",
    "\n",
    "```python\n",
    "def halbieren(n):\n",
    "    while n > 1:\n",
    "        n = n // 2\n",
    "```\n"
   ]
  },
  {
   "cell_type": "markdown",
   "id": "ec20a846",
   "metadata": {},
   "source": [
    "### Aufgabe 5: Beweise mit Quantoren\n",
    "\n",
    "Formuliere die exakte Definition der O-Notation mit Hilfe von Quantoren:\n",
    "\n",
    "$f(n) \\in \\mathcal{O}(g(n)) \\Leftrightarrow$ …\n",
    "\n",
    "Gib zusätzlich eine Beispielfunktion $f(n)$ und $g(n)$ an, für die dies zutrifft.\n"
   ]
  },
  {
   "cell_type": "markdown",
   "id": "ff20760f",
   "metadata": {},
   "source": [
    "---\n",
    "\n",
    "## Theorie\n",
    "\n",
    "### Formale Definition von $\\mathcal{O}(g(n))$\n",
    "\n",
    "Sei $f, g : \\mathbb{N} \\rightarrow \\mathbb{R}_{\\ge 0}$.  \n",
    "Dann gilt:\n",
    "\n",
    "$$\n",
    "f(n) \\in \\mathcal{O}(g(n)) \\iff \\exists c > 0,\\ \\exists n_0 \\in \\mathbb{N} : \\forall n \\ge n_0 : f(n) \\le c \\cdot g(n)\n",
    "$$\n",
    "\n",
    "**Sprache:**  \n",
    "Es existieren eine Konstante $c$ und eine Schranke $n_0$, sodass für alle $n$ ab dieser Grenze gilt:  \n",
    "$f(n)$ ist höchstens ein Vielfaches von $g(n)$.\n",
    "\n",
    "---\n",
    "\n",
    "### Typische Beispiele\n",
    "\n",
    "| Bezeichnung         | Beispiel              | Komplexität            |\n",
    "|---------------------|-----------------------|-------------------------|\n",
    "| konstant            | `return x + 1`        | $\\mathcal{O}(1)$       |\n",
    "| linear              | `for i in range(n)`   | $\\mathcal{O}(n)$       |\n",
    "| quadratisch         | doppelte Schleife     | $\\mathcal{O}(n^2)$     |\n",
    "| logarithmisch       | halbieren             | $\\mathcal{O}(\\log n)$ |\n",
    "| exponentiell        | Rekursion $2^n$       | $\\mathcal{O}(2^n)$     |\n",
    "\n",
    "---\n",
    "\n",
    "### All- und Existenzquantoren\n",
    "\n",
    "| Symbol     | Bedeutung                    |\n",
    "|------------|------------------------------|\n",
    "| $\\forall$ | \"für alle\"                   |\n",
    "| $\\exists$ | \"es existiert\"               |\n",
    "\n",
    "Beispiel:\n",
    "\n",
    "> $\\forall n \\in \\mathbb{N}, \\exists m > n : m \\in \\mathbb{N}$  \n",
    "> (Für jede natürliche Zahl gibt es eine grössere.)\n"
   ]
  }
 ],
 "metadata": {
  "kernelspec": {
   "display_name": ".venv",
   "language": "python",
   "name": "python3"
  },
  "language_info": {
   "name": "python",
   "version": "3.13.3"
  }
 },
 "nbformat": 4,
 "nbformat_minor": 5
}
