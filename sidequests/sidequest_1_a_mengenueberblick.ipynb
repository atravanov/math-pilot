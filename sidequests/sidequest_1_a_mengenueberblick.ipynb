{
 "cells": [
  {
   "cell_type": "markdown",
   "id": "000c7658",
   "metadata": {},
   "source": [
    "# Sidequest 1.a – Überblick der wichtigsten mathematischen Mengen\n",
    "\n",
    "---\n",
    "\n",
    "## Lernziele\n",
    "\n",
    "- Du kennst die wichtigsten mathematischen Zahlenmengen wie $\\mathbb{N}$, $\\mathbb{Z}$, $\\mathbb{Q}$, $\\mathbb{R}$ und $\\mathbb{P}$.\n",
    "- Du kannst Zahlen den richtigen Mengen zuordnen.\n",
    "- Du verstehst, was eine leere Menge ist und wie man Teilmengen aufzählt.\n",
    "- Du kannst einfache Mengenoperationen wie Vereinigung, Schnitt und Differenz anwenden.\n",
    "\n",
    "---\n",
    "\n",
    "## Ausgangslage\n",
    "\n",
    "In der Theorie (siehe unten) hast du verschiedene Zahlenmengen kennengelernt:\n",
    "\n",
    "- die natürlichen Zahlen $\\mathbb{N}$\n",
    "- die ganzen Zahlen $\\mathbb{Z}$\n",
    "- die rationalen Zahlen $\\mathbb{Q}$\n",
    "- die reellen Zahlen $\\mathbb{R}$\n",
    "- die Primzahlen $\\mathbb{P}$\n",
    "- und die leere Menge $\\emptyset$\n",
    "\n",
    "Ausserdem hast du die Bedeutung von Teilmengen, Potenzmengen und Mengenoperationen wie $\\cup$, $\\cap$, $\\setminus$ und $\\subseteq$ verstanden."
   ]
  },
  {
   "cell_type": "markdown",
   "id": "662ea759",
   "metadata": {},
   "source": [
    "---\n",
    "\n",
    "## Aufgaben\n",
    "\n",
    "### Aufgabe 1\n",
    "\n",
    "Ordne die folgenden Zahlen den passenden Mengen zu. Eine Zahl kann zu mehreren Mengen gehören.\n",
    "\n",
    "| Zahl           | Passende Mengen                         |\n",
    "|----------------|------------------------------------------|\n",
    "| $7$            |                                          |\n",
    "| $-3$           |                                          |\n",
    "| $\\frac{2}{5}$  |                                          |\n",
    "| $\\sqrt{2}$     |                                          |\n",
    "| $0$            |                                          |\n",
    "| $\\pi$          |                                          |\n"
   ]
  },
  {
   "cell_type": "markdown",
   "id": "dae5aa37",
   "metadata": {},
   "source": [
    "### Lösung 1\n",
    "\n",
    "| Zahl           | Passende Mengen                         |\n",
    "|----------------|------------------------------------------|\n",
    "| $7$            | $\\mathbb{N}, \\mathbb{Z}, \\mathbb{Q}, \\mathbb{R}, \\mathbb{P}$ |\n",
    "| $-3$           | $\\mathbb{Z}, \\mathbb{Q}, \\mathbb{R}$ |\n",
    "| $\\frac{2}{5}$  | $\\mathbb{Q}, \\mathbb{R}$              |\n",
    "| $\\sqrt{2}$     | $\\mathbb{R}$ (irrational)              |\n",
    "| $0$            | $\\mathbb{N}, \\mathbb{Z}, \\mathbb{Q}, \\mathbb{R}$ |\n",
    "| $\\pi$     | $\\mathbb{R}$ (irrational)              |"
   ]
  },
  {
   "cell_type": "markdown",
   "id": "31935f75",
   "metadata": {},
   "source": [
    "### Aufgabe 2\n",
    "\n",
    "**a)** Gib alle Teilmengen der Menge $A = \\{a, b\\}$ an.  \n",
    "**b)** Wie viele Teilmengen hat eine Menge mit vier Elementen?\n"
   ]
  },
  {
   "cell_type": "markdown",
   "id": "cfbf80cb",
   "metadata": {},
   "source": [
    "### Lösung 2\n",
    "\n",
    "**a)**  \n",
    "$\\mathcal{P}(A) = \\{\\emptyset, \\{a\\}, \\{b\\}, \\{a, b\\}\\}$\n",
    "\n",
    "**b)**  \n",
    "Eine Menge mit vier Elementen hat $2^4 = 16$ Teilmengen.\n"
   ]
  },
  {
   "cell_type": "markdown",
   "id": "de0afa9a",
   "metadata": {},
   "source": [
    "### Aufgabe 3\n",
    "\n",
    "Gegeben seien die Mengen\n",
    "\n",
    "$$\n",
    "A = \\{1, 2, 3, 4\\}, \\quad B = \\{3, 4, 5, 6\\}\n",
    "$$\n",
    "\n",
    "Berechne:\n",
    "\n",
    "- $A \\cup B$\n",
    "- $A \\cap B$\n",
    "- $A \\setminus B$\n",
    "- $B \\setminus A$\n",
    "- $A \\triangle B$\n"
   ]
  },
  {
   "cell_type": "markdown",
   "id": "44b6e03e",
   "metadata": {},
   "source": [
    "### Lösung 3\n",
    "\n",
    "- $A \\cup B = \\{1, 2, 3, 4, 5, 6\\}$\n",
    "- $A \\cap B = \\{3, 4\\}$\n",
    "- $A \\setminus B = \\{1, 2\\}$\n",
    "- $B \\setminus A = \\{5, 6\\}$\n",
    "- $A \\triangle B = \\{1, 2, 5, 6\\}$\n"
   ]
  },
  {
   "cell_type": "markdown",
   "id": "60277e5c",
   "metadata": {},
   "source": [
    "### Aufgabe 4\n",
    "\n",
    "Beantworte folgende Frage:  \n",
    "Ist $\\emptyset \\subseteq \\mathbb{N}$? Begründe deine Antwort.\n"
   ]
  },
  {
   "cell_type": "markdown",
   "id": "18fc7cb6",
   "metadata": {},
   "source": [
    "### Lösung 4\n",
    "\n",
    "Ja, die leere Menge ist Teilmenge jeder Menge.  \n",
    "Es gilt: $\\emptyset \\subseteq \\mathbb{N}$\n"
   ]
  },
  {
   "cell_type": "markdown",
   "id": "2e57692e",
   "metadata": {},
   "source": [
    "---\n",
    "\n",
    "## Theorie\n",
    "\n",
    "### Überblick der wichtigsten Mathematischen Mengen\n",
    "Wir werden folgende Mengen in Zukunft verwenden:\n",
    "\n",
    "\n",
    "- $\\mathbb{N}$ — Menge der **natürlichen Zahlen**  \n",
    "  $\\mathbb{N} = \\{0, 1, 2, 3, \\dots\\}$  \n",
    "  oder ohne Null: $\\mathbb{N}^+ = \\{1, 2, 3, \\dots\\}$\n",
    "\n",
    "- $\\mathbb{Z}$ — Menge der **ganzen Zahlen**  \n",
    "  $\\mathbb{Z} = \\{\\dots, -2, -1, 0, 1, 2, \\dots\\}$\n",
    "\n",
    "- $\\mathbb{Q}$ — Menge der **rationalen Zahlen**  \n",
    "  $\\mathbb{Q} = \\left\\{ \\frac{a}{b} \\,\\middle|\\, a, b \\in \\mathbb{Z},\\ b \\ne 0 \\right\\}$\n",
    "\n",
    "- $\\mathbb{R}$ — Menge der **reellen Zahlen**  \n",
    "  $\\mathbb{R}$ enthält alle rationalen und irrationalen Zahlen\n",
    "\n",
    "- $\\mathbb{P}$ — Menge der **Primzahlen**  \n",
    "  $\\mathbb{P} = \\{2, 3, 5, 7, 11, 13, 17, \\dots\\}$\n",
    "\n",
    "- $\\emptyset$ oder $\\varnothing$ — die **leere Menge**  \n",
    "  $\\emptyset = \\{\\}$\n",
    "\n",
    "\n",
    "### Teilmengen\n",
    "\n",
    "Eine Menge $A$ ist eine **Teilmenge** von $B$ ($A \\subseteq B$), wenn **alle Elemente von $A$ auch in $B$ enthalten sind**.\n",
    "\n",
    "Beispiel (Mathematik):\n",
    "\n",
    "$A = \\{1, 2\\}, \\quad B = \\{1, 2, 3, 4\\} \\quad \\Rightarrow A \\subseteq B$\n",
    "\n",
    "Beispiel (Python):"
   ]
  },
  {
   "cell_type": "code",
   "execution_count": 1,
   "id": "3c08d951",
   "metadata": {},
   "outputs": [
    {
     "name": "stdout",
     "output_type": "stream",
     "text": [
      "True\n"
     ]
    }
   ],
   "source": [
    "A = {1, 2}\n",
    "B = {1, 2, 3, 4}\n",
    "print(A.issubset(B))  # Ausgabe: True"
   ]
  },
  {
   "cell_type": "markdown",
   "id": "2856f32d",
   "metadata": {},
   "source": [
    "### Vereinigungsmenge ($\\cup$)\n",
    "\n",
    "Die **Vereinigung** zweier Mengen $A$ und $B$ enthält **alle Elemente, die in $A$, $B$ oder beiden Mengen** vorkommen.\n",
    "\n",
    "Mathematisch:  \n",
    "\n",
    "$A \\cup B = \\{x \\mid x \\in A \\lor x \\in B\\}$\n",
    "\n",
    "Python:"
   ]
  },
  {
   "cell_type": "code",
   "execution_count": 2,
   "id": "07cc11e8",
   "metadata": {},
   "outputs": [
    {
     "name": "stdout",
     "output_type": "stream",
     "text": [
      "{1, 2, 3, 4, 5}\n"
     ]
    }
   ],
   "source": [
    "A = {1, 2, 3}\n",
    "B = {3, 4, 5}\n",
    "print(A | B)  # Ausgabe: {1, 2, 3, 4, 5}"
   ]
  },
  {
   "cell_type": "markdown",
   "id": "8c965693",
   "metadata": {},
   "source": [
    "### Schnittmenge ($\\cap$)\n",
    "\n",
    "Die **Schnittmenge** enthält **nur die Elemente, die in beiden Mengen vorkommen**.\n",
    "\n",
    "Mathematisch:  \n",
    "$A \\cap B = \\{x \\mid x \\in A \\land x \\in B\\}$\n",
    "\n",
    "Python:"
   ]
  },
  {
   "cell_type": "code",
   "execution_count": 3,
   "id": "35781313",
   "metadata": {},
   "outputs": [
    {
     "name": "stdout",
     "output_type": "stream",
     "text": [
      "{2, 3}\n"
     ]
    }
   ],
   "source": [
    "A = {1, 2, 3}\n",
    "B = {2, 3, 4}\n",
    "print(A & B)  # Ausgabe: {2, 3}"
   ]
  },
  {
   "cell_type": "markdown",
   "id": "8bcd4a7b",
   "metadata": {},
   "source": [
    "### Mengendifferenz ($\\setminus$)\n",
    "\n",
    "Die **Differenzmenge** $A \\setminus B$ enthält **die Elemente, die in $A$, aber nicht in $B$ vorkommen**.\n",
    "\n",
    "Mathematisch:\n",
    "\n",
    "$A \\setminus B = \\{x \\in A \\mid x \\notin B\\}$\n",
    "\n",
    "Python:"
   ]
  },
  {
   "cell_type": "code",
   "execution_count": 4,
   "id": "a4ee8ab4",
   "metadata": {},
   "outputs": [
    {
     "name": "stdout",
     "output_type": "stream",
     "text": [
      "{1}\n"
     ]
    }
   ],
   "source": [
    "A = {1, 2, 3}\n",
    "B = {2, 3}\n",
    "print(A - B)  # Ausgabe: {1}"
   ]
  },
  {
   "cell_type": "markdown",
   "id": "cab0a80b",
   "metadata": {},
   "source": [
    "### Symmetrische Differenz ($A \\triangle B$)\n",
    "\n",
    "Die **symmetrische Differenz** enthält **alle Elemente, die in genau einer der beiden Mengen vorkommen**, aber nicht in beiden.\n",
    "\n",
    "Python:"
   ]
  },
  {
   "cell_type": "code",
   "execution_count": 5,
   "id": "6a442de3",
   "metadata": {},
   "outputs": [
    {
     "name": "stdout",
     "output_type": "stream",
     "text": [
      "{1, 2, 4, 5}\n"
     ]
    }
   ],
   "source": [
    "A = {1, 2, 3}\n",
    "B = {3, 4, 5}\n",
    "print(A ^ B)  # Ausgabe: {1, 2, 4, 5}"
   ]
  },
  {
   "cell_type": "markdown",
   "id": "a31c7492",
   "metadata": {},
   "source": [
    "### Potenzmenge\n",
    "\n",
    "Die **Potenzmenge** $\\mathcal{P}(A)$ ist die Menge **aller Teilmengen** von $A$.\n",
    "\n",
    "Beispiel:\n",
    "\n",
    "Wenn $A = \\{a, b\\}$, dann ist\n",
    "\n",
    "$$\n",
    "\\mathcal{P}(A) = \\{\\emptyset, \\{a\\}, \\{b\\}, \\{a, b\\}\\}\n",
    "$$\n",
    "\n",
    "Python (mit `itertools`):"
   ]
  },
  {
   "cell_type": "code",
   "execution_count": 6,
   "id": "43a8056b",
   "metadata": {},
   "outputs": [
    {
     "name": "stdout",
     "output_type": "stream",
     "text": [
      "[set(), {'a'}, {'b'}, {'a', 'b'}]\n"
     ]
    }
   ],
   "source": [
    "import itertools\n",
    "\n",
    "A = {'a', 'b'}\n",
    "potenzmenge = [set(x) for i in range(len(A)+1) for x in itertools.combinations(A, i)]\n",
    "print(potenzmenge)"
   ]
  },
  {
   "cell_type": "markdown",
   "id": "354296c5",
   "metadata": {},
   "source": [
    "### Zusammenfassung\n",
    "\n",
    "| Operation              | Mathematisch      | Python-Syntax      |\n",
    "|------------------------|-------------------|---------------------|\n",
    "| Teilmenge              | $A \\subseteq B$   | `A.issubset(B)`     |\n",
    "| Vereinigung            | $A \\cup B$        | `A \\| B`             |\n",
    "| Schnittmenge           | $A \\cap B$        | `A & B`             |\n",
    "| Differenz              | $A \\setminus B$   | `A - B`             |\n",
    "| Symmetrische Differenz | $A \\triangle B$   | `A ^ B`             |\n",
    "| Potenzmenge            | $\\mathcal{P}(A)$     | `itertools.combinations` |"
   ]
  }
 ],
 "metadata": {
  "kernelspec": {
   "display_name": ".venv",
   "language": "python",
   "name": "python3"
  },
  "language_info": {
   "codemirror_mode": {
    "name": "ipython",
    "version": 3
   },
   "file_extension": ".py",
   "mimetype": "text/x-python",
   "name": "python",
   "nbconvert_exporter": "python",
   "pygments_lexer": "ipython3",
   "version": "3.13.3"
  }
 },
 "nbformat": 4,
 "nbformat_minor": 5
}
