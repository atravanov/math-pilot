{
 "cells": [
  {
   "cell_type": "markdown",
   "id": "1ab389f4",
   "metadata": {},
   "source": [
    "# Sidequest 2.1 – Einführung in Funktionen\n",
    "\n",
    "---\n",
    "\n",
    "## Lernziele\n",
    "\n",
    "- Du verstehst den Begriff einer mathematischen Funktion als eindeutige Zuordnung.\n",
    "- Du erkennst verschiedene Arten von Funktionen anhand ihrer Eigenschaften.\n",
    "- Du kennst den Unterschied zwischen injektiven, surjektiven und bijektiven Abbildungen.\n",
    "- Du kannst einfache Funktionen als Python-Funktionen formulieren und interpretieren.\n",
    "- Du erkennst typische Formen wie konstante, lineare, polynomielle und exponentielle Funktionen.\n",
    "\n",
    "---\n",
    "\n",
    "## Ausgangslage\n",
    "\n",
    "Funktionen sind grundlegende Bausteine der Mathematik. Sie beschreiben die eindeutige Zuordnung eines Elements aus einer Definitionsmenge zu genau einem Element aus einer Zielmenge.\n",
    "\n",
    "Wir unterscheiden insbesondere:\n",
    "\n",
    "- Injektiv: jedes Ziel hat höchstens ein Urbild  \n",
    "- Surjektiv: jedes Ziel hat mindestens ein Urbild  \n",
    "- Bijektiv: jedes Ziel hat genau ein Urbild (injektiv & surjektiv)\n",
    "\n",
    "Beispiele für Funktionstypen:\n",
    "\n",
    "- konstante Funktion: $f(x) = c$\n",
    "- lineare Funktion: $f(x) = mx + b$\n",
    "- polynomielle Funktion: $f(x) = ax^2 + bx + c$\n",
    "- exponentielle Funktion: $f(x) = a^x$\n"
   ]
  },
  {
   "cell_type": "markdown",
   "id": "88f0666f",
   "metadata": {},
   "source": [
    "## Aufgaben\n",
    "\n",
    "### Aufgabe 1: Verständnisfunktion\n",
    "\n",
    "Was bedeutet es, dass eine Funktion eine eindeutige Zuordnung ist? Erkläre es in einem Satz.\n"
   ]
  },
  {
   "cell_type": "markdown",
   "id": "a3a5b815",
   "metadata": {},
   "source": [
    "### Lösung 1\n",
    "\n",
    "Eine Funktion ordnet jedem Element der Definitionsmenge genau ein Element der Zielmenge zu.\n"
   ]
  },
  {
   "cell_type": "markdown",
   "id": "776619bc",
   "metadata": {},
   "source": [
    "### Aufgabe 2: Konstante Funktion in Python\n",
    "\n",
    "Implementiere eine konstante Funktion $f(x) = 3$ in Python. Gib die Funktionswerte für $x = 0$ bis $x = 4$ aus.\n"
   ]
  },
  {
   "cell_type": "code",
   "execution_count": 3,
   "id": "0a743915",
   "metadata": {},
   "outputs": [
    {
     "name": "stdout",
     "output_type": "stream",
     "text": [
      "3\n",
      "3\n",
      "3\n",
      "3\n",
      "3\n"
     ]
    }
   ],
   "source": [
    "def f(x):\n",
    "    return 3\n",
    "\n",
    "for x in range(5):\n",
    "    print(f(x))\n"
   ]
  },
  {
   "cell_type": "markdown",
   "id": "7ec3d322",
   "metadata": {},
   "source": [
    "### Aufgabe 3: Lineare Funktion\n",
    "\n",
    "Gegeben ist $f(x) = 2x + 1$. Implementiere sie und berechne $f(0)$ bis $f(4)$.\n"
   ]
  },
  {
   "cell_type": "code",
   "execution_count": 4,
   "id": "c9c68c9a",
   "metadata": {},
   "outputs": [
    {
     "name": "stdout",
     "output_type": "stream",
     "text": [
      "1\n",
      "3\n",
      "5\n",
      "7\n",
      "9\n"
     ]
    }
   ],
   "source": [
    "def f(x):\n",
    "    return 2 * x + 1\n",
    "\n",
    "for x in range(5):\n",
    "    print(f(x))\n"
   ]
  },
  {
   "cell_type": "markdown",
   "id": "4fc46e78",
   "metadata": {},
   "source": [
    "### Aufgabe 4: Funktionstyp erkennen\n",
    "\n",
    "Ordne folgenden Funktionsgleichungen den passenden Typen zu:\n",
    "\n",
    "- $f(x) = 7$\n",
    "- $f(x) = -3x + 5$\n",
    "- $f(x) = x^2 - x$\n",
    "- $f(x) = 2^x$\n",
    "\n",
    "Typen: konstant, linear, polynomiell, exponentiell\n"
   ]
  },
  {
   "cell_type": "markdown",
   "id": "b4e808a5",
   "metadata": {},
   "source": [
    "### Lösung 4\n",
    "\n",
    "- $f(x) = 7$ → konstant  \n",
    "- $f(x) = -3x + 5$ → linear  \n",
    "- $f(x) = x^2 - x$ → polynomiell  \n",
    "- $f(x) = 2^x$ → exponentiell\n"
   ]
  },
  {
   "cell_type": "markdown",
   "id": "133a0ad7",
   "metadata": {},
   "source": [
    "### Aufgabe 5: Injektiv, Surjektiv, Bijektiv\n",
    "\n",
    "Gib an, ob folgende Funktionen injektiv, surjektiv oder bijektiv sind, wenn man $f : \\mathbb{R} \\rightarrow \\mathbb{R}$ betrachtet:\n",
    "\n",
    "- $f(x) = x + 1$\n",
    "- $f(x) = x^2$\n",
    "- $f(x) = \\sin(x)$\n",
    "\n",
    "Begründe jeweils kurz.\n"
   ]
  },
  {
   "cell_type": "markdown",
   "id": "c74c7a68",
   "metadata": {},
   "source": [
    "### Lösung 5\n",
    "\n",
    "- $f(x) = x + 1$ → bijektiv (streng monoton, jedes $y \\in \\mathbb{R}$ hat genau ein Urbild)  \n",
    "- $f(x) = x^2$ → weder injektiv noch surjektiv (nicht umkehrbar, Zielmenge nicht erreicht)  \n",
    "- $f(x) = \\sin(x)$ → nicht injektiv, nicht surjektiv auf $\\mathbb{R}$, da nur Werte $[-1, 1]$ angenommen werden\n"
   ]
  },
  {
   "cell_type": "markdown",
   "id": "3ca51597",
   "metadata": {},
   "source": [
    "---\n",
    "\n",
    "## Theorie\n",
    "\n",
    "### Funktion (exakte Definition)\n",
    "\n",
    "Eine Funktion ist eine spezielle Relation.\n",
    "\n",
    "**Definition:**\n",
    "\n",
    "Eine Funktion ist eine Abbildung  \n",
    "$$\n",
    "f : A \\rightarrow B\n",
    "$$  \n",
    "die jedem Element $a \\in A$ genau ein Element $f(a) \\in B$ zuordnet.\n",
    "\n",
    "Dabei gilt:\n",
    "- $A$ heißt Definitionsmenge\n",
    "- $B$ heißt Zielmenge\n",
    "- $f(a)$ heißt Funktionswert von $a$\n",
    "\n",
    "---\n",
    "\n",
    "### Arten von Abbildungen\n",
    "\n",
    "| Typ       | Eigenschaft                                                   |\n",
    "|-----------|---------------------------------------------------------------|\n",
    "| Injektiv  | $f(a_1) = f(a_2) \\Rightarrow a_1 = a_2$                       |\n",
    "| Surjektiv | Jedes $b \\in B$ hat mindestens ein Urbild in $A$             |\n",
    "| Bijektiv  | Kombination aus Injektivität und Surjektivität                |\n",
    "\n",
    "---\n",
    "\n",
    "### Typische Funktionsklassen\n",
    "\n",
    "| Beispiel         | Typ           | Beschreibung            |\n",
    "|------------------|---------------|-------------------------|\n",
    "| $f(x) = 5$       | konstant      | immer derselbe Wert     |\n",
    "| $f(x) = 2x - 3$  | linear        | Gerade                  |\n",
    "| $f(x) = x^2 + 1$ | polynomiell   | Parabel                 |\n",
    "| $f(x) = 2^x$     | exponentiell  | wächst sehr schnell     |\n",
    "\n",
    "---\n",
    "\n",
    "### Python-Tipp\n",
    "\n",
    "In Python definierst du Funktionen mit `def`:\n",
    "\n",
    "```python\n",
    "def f(x:float) -> float:\n",
    "    return 2*x + 1\n",
    "```\n"
   ]
  }
 ],
 "metadata": {
  "kernelspec": {
   "display_name": ".venv",
   "language": "python",
   "name": "python3"
  },
  "language_info": {
   "codemirror_mode": {
    "name": "ipython",
    "version": 3
   },
   "file_extension": ".py",
   "mimetype": "text/x-python",
   "name": "python",
   "nbconvert_exporter": "python",
   "pygments_lexer": "ipython3",
   "version": "3.13.3"
  }
 },
 "nbformat": 4,
 "nbformat_minor": 5
}
