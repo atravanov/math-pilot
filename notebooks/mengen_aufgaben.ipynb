{
 "cells": [
  {
   "cell_type": "markdown",
   "id": "7943319f",
   "metadata": {},
   "source": [
    "# 📝 Aufgabenblatt – Mengen in Python\n",
    "\n",
    "## 🔍 Einführung\n",
    "\n",
    "In Python gibt es verschiedene grundlegende Datentypen, die dir beim Lösen dieser Aufgaben helfen:\n",
    "\n",
    "- **Liste (`list`)**: Eine geordnete Sammlung von Elementen:\n",
    "  ```python\n",
    "  meine_liste = [1, 2, 3, 4]\n",
    "  ```\n",
    "\n",
    "- **Menge (`set`)**: Eine ungeordnete Sammlung von **einzigartigen** Elementen (keine Duplikate!):\n",
    "  ```python\n",
    "  meine_menge = {1, 2, 3}\n",
    "  ```\n",
    "\n",
    "- **Funktion (`def`)**: Eine Funktion erlaubt es dir, Code logisch zu strukturieren und wiederzuverwenden:\n",
    "  ```python\n",
    "  def sag_hallo(name):\n",
    "      print(\"Hallo,\", name)\n",
    "  ```\n"
   ]
  },
  {
   "cell_type": "markdown",
   "id": "4f4f19e8",
   "metadata": {},
   "source": [
    "### ✅ Aufgabe 1: Gemeinsame Freunde finden\n",
    "Gegeben sind zwei Mengen mit den Namen der Freunde von Person A und B:\n",
    "```python\n",
    "freunde_a = {\"Anna\", \"Ben\", \"Clara\", \"Daniel\"}\n",
    "freunde_b = {\"Ben\", \"Daniel\", \"Eva\", \"Frank\"}\n",
    "```\n",
    "**Schreibe eine Funktion `gemeinsame_freunde(a, b)`**, die alle Freunde zurückgibt, die **beide Personen gemeinsam haben**."
   ]
  },
  {
   "cell_type": "code",
   "execution_count": null,
   "id": "2d26a088",
   "metadata": {},
   "outputs": [],
   "source": [
    "# Deine Lösung hier\n",
    "def gemeinsame_freunde(a, b):\n",
    "    pass"
   ]
  },
  {
   "cell_type": "markdown",
   "id": "90f79e42",
   "metadata": {},
   "source": [
    "### ✅ Aufgabe 2: Duplikate aus einer Liste entfernen\n",
    "Gegeben ist eine Liste mit Zahlen, in der manche Zahlen mehrfach vorkommen:\n",
    "```python\n",
    "zahlen = [1, 2, 2, 3, 4, 4, 5]\n",
    "```\n",
    "**Schreibe eine Funktion `ohne_duplikate(liste)`**, die Duplikate entfernt und eine Liste mit eindeutigen Werten zurückgibt."
   ]
  },
  {
   "cell_type": "code",
   "execution_count": null,
   "id": "a3876a40",
   "metadata": {},
   "outputs": [],
   "source": [
    "# Deine Lösung hier\n",
    "def ohne_duplikate(liste):\n",
    "    pass"
   ]
  },
  {
   "cell_type": "markdown",
   "id": "9bd58a81",
   "metadata": {},
   "source": [
    "### ✅ Aufgabe 3: Teilmenge prüfen\n",
    "```python\n",
    "a = {1, 2}\n",
    "b = {1, 2, 3, 4}\n",
    "```\n",
    "**Schreibe eine Funktion `ist_teilmenge(a, b)`**, die überprüft, ob `a` eine Teilmenge von `b` ist."
   ]
  },
  {
   "cell_type": "code",
   "execution_count": null,
   "id": "774e7db7",
   "metadata": {},
   "outputs": [],
   "source": [
    "# Deine Lösung hier\n",
    "def ist_teilmenge(a, b):\n",
    "    pass"
   ]
  },
  {
   "cell_type": "markdown",
   "id": "b89fbc7d",
   "metadata": {},
   "source": [
    "### ⚙️ Aufgabe 4: Nur in einer Liste vorkommende Elemente\n",
    "```python\n",
    "liste_a = [1, 2, 3, 4, 5]\n",
    "liste_b = [4, 5, 6, 7]\n",
    "```\n",
    "**Schreibe eine Funktion `nur_in_einer_liste(a, b)`**, die Elemente zurückgibt, die **nur in einer der beiden Listen** vorkommen."
   ]
  },
  {
   "cell_type": "code",
   "execution_count": null,
   "id": "475dd5bb",
   "metadata": {},
   "outputs": [],
   "source": [
    "# Deine Lösung hier\n",
    "def nur_in_einer_liste(a, b):\n",
    "    pass"
   ]
  },
  {
   "cell_type": "markdown",
   "id": "4033ff6a",
   "metadata": {},
   "source": [
    "### 🧠 Aufgabe 5: Multimengen-Teilmenge prüfen\n",
    "```python\n",
    "a = [1, 2, 2, 3]\n",
    "b = [1, 2, 2, 2, 3, 4]\n",
    "```\n",
    "**Schreibe eine Funktion `ist_multimengen_teilmenge(a, b)`**, die prüft, ob `a` (inkl. Häufigkeit) Teilmenge von `b` ist."
   ]
  },
  {
   "cell_type": "code",
   "execution_count": null,
   "id": "6b2fd35a",
   "metadata": {},
   "outputs": [],
   "source": [
    "# Deine Lösung hier\n",
    "from collections import Counter\n",
    "\n",
    "def ist_multimengen_teilmenge(a, b):\n",
    "    pass"
   ]
  }
 ],
 "metadata": {},
 "nbformat": 4,
 "nbformat_minor": 5
}
